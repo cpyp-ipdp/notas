{
 "cells": [
  {
   "metadata": {},
   "cell_type": "markdown",
   "source": [
    "### Rastreo de noticias en Google News sobre temas de la Ciudad de México que competan o sean de interés del Instituto de Planeación de la Ciudad de México\n",
    "\n",
    "El script extrae las notas de Google News de los temas de agua, movilidad, planeación, salud y seguridad de la Ciudad de México. El script extrae los títulos, url y fecha de las notas."
   ],
   "id": "99ded448f3969ac3"
  },
  {
   "metadata": {
    "ExecuteTime": {
     "end_time": "2025-03-13T19:52:48.817978Z",
     "start_time": "2025-03-13T19:52:48.807538Z"
    }
   },
   "cell_type": "code",
   "source": [
    "import requests\n",
    "import pandas as pd\n",
    "from bs4 import BeautifulSoup"
   ],
   "id": "2dc0e4eacf2e9110",
   "outputs": [],
   "execution_count": 7
  },
  {
   "metadata": {
    "ExecuteTime": {
     "end_time": "2025-03-13T19:52:48.832853Z",
     "start_time": "2025-03-13T19:52:48.829681Z"
    }
   },
   "cell_type": "code",
   "source": [
    "#Temas de interés\n",
    "\n",
    "temas=[\"agua\",\"movilidad\",\"planeacion\",\"salud\",\"seguridad\"]"
   ],
   "id": "7f137db178e47a17",
   "outputs": [],
   "execution_count": 8
  },
  {
   "metadata": {
    "ExecuteTime": {
     "end_time": "2025-03-13T20:11:15.858993Z",
     "start_time": "2025-03-13T20:11:15.851451Z"
    }
   },
   "cell_type": "code",
   "source": [
    "#Función para extraer notas:\n",
    "def get_notas(tema,periodo):\n",
    "    headers = {'User-Agent':'Mozilla/5.0 (Windows NT 10.0; Win64; x64) AppleWebKit/537.36 (KHTML, like Gecko) Chrome/134.0.0.0 Safari/537.36'\n",
    "    }\n",
    "    url = f'https://news.google.com/search?q={tema}%20ciudad%20de%20mexico%20when%3A{periodo}d&hl=es-419&gl=MX&ceid=MX%3Aes-419'\n",
    "    response = requests.get(url, headers=headers)\n",
    "    sopa=BeautifulSoup(response.text, 'html.parser')\n",
    "    resultados=sopa.find_all('article')\n",
    "    #Extraer títulos y url\n",
    "    titulos=[]\n",
    "    url=[]\n",
    "    fechas=[]\n",
    "    for i in range(len(resultados)):\n",
    "        titulos.append(resultados[i].find('a', class_='JtKRv').text)\n",
    "        url.append(resultados[i].find('a').get('href'))\n",
    "        fecha = resultados[i].find('time')['datetime'] if resultados[i].find('time') else None\n",
    "        fechas.append(fecha)\n",
    "    # Eliminar el primer punto de la url\n",
    "    url = [i[1:] for i in url]\n",
    "\n",
    "    df=pd.DataFrame({'titulo':titulos,'url':url,'fecha_nota':fechas,'fecha_consulta':pd.to_datetime('today').strftime('%Y-%m-%d'),'tema':tema})\n",
    "    df['url'] = 'https://news.google.com' + df['url']\n",
    "\n",
    "    return df"
   ],
   "id": "b6b567594d5f94a2",
   "outputs": [],
   "execution_count": 32
  },
  {
   "metadata": {
    "ExecuteTime": {
     "end_time": "2025-03-13T20:11:20.202892Z",
     "start_time": "2025-03-13T20:11:17.084631Z"
    }
   },
   "cell_type": "code",
   "source": [
    "#Tabla general de notas\n",
    "consolidado_notas=pd.DataFrame()\n",
    "\n",
    "#Ciclo para extraer las notas de ayer de los temas\n",
    "for tema in temas:\n",
    "    notas=get_notas(tema,1)\n",
    "    consolidado_notas=pd.concat([consolidado_notas,notas],axis=0)\n"
   ],
   "id": "679e797038166c1",
   "outputs": [],
   "execution_count": 33
  },
  {
   "metadata": {
    "ExecuteTime": {
     "end_time": "2025-03-13T20:11:20.213825Z",
     "start_time": "2025-03-13T20:11:20.202892Z"
    }
   },
   "cell_type": "code",
   "source": "consolidado_notas",
   "id": "f8f3538dfafc3ab9",
   "outputs": [
    {
     "data": {
      "text/plain": [
       "                                               titulo  \\\n",
       "0   ¿Cómo pagar un recibo de agua vencido en la CDMX?   \n",
       "1   Sequía en México; ¿Cuáles son los riesgos de a...   \n",
       "2   Conagua invertirá 195 mdp para rehabilitar dre...   \n",
       "3   ¿Corte de agua en CDMX?: Estas son las alcaldí...   \n",
       "4              Agua para el futuro: el reto de México   \n",
       "..                                                ...   \n",
       "50  De cuánto es la MULTA por tapar números o letr...   \n",
       "51  En Tláhuac, mototaxista sin una pierna andaba ...   \n",
       "52  Detención de El Conejo, presunto líder de Los ...   \n",
       "53  En Tláhuac, mototaxista sin una pierna andaba ...   \n",
       "54  Refuerzan la seguridad en el transporte públic...   \n",
       "\n",
       "                                                  url            fecha_nota  \\\n",
       "0   https://news.google.com/read/CBMioAFBVV95cUxOR...  2025-03-13T18:58:16Z   \n",
       "1   https://news.google.com/read/CBMi1AFBVV95cUxPU...  2025-03-13T17:08:35Z   \n",
       "2   https://news.google.com/read/CBMiqAFBVV95cUxNc...  2025-03-13T11:08:40Z   \n",
       "3   https://news.google.com/read/CBMitAFBVV95cUxPd...  2025-03-12T21:25:51Z   \n",
       "4   https://news.google.com/read/CBMinwFBVV95cUxOa...  2025-03-13T06:13:00Z   \n",
       "..                                                ...                   ...   \n",
       "50  https://news.google.com/read/CBMinAFBVV95cUxNN...  2025-03-12T23:29:00Z   \n",
       "51  https://news.google.com/read/CBMi3gFBVV95cUxPd...  2025-03-12T22:36:00Z   \n",
       "52  https://news.google.com/read/CBMixgFBVV95cUxQd...  2025-03-12T20:57:00Z   \n",
       "53  https://news.google.com/read/CBMi2gFBVV95cUxOd...  2025-03-12T22:53:16Z   \n",
       "54  https://news.google.com/read/CBMizgFBVV95cUxPM...  2025-03-13T17:26:04Z   \n",
       "\n",
       "   fecha_consulta       tema  \n",
       "0      2025-03-13       agua  \n",
       "1      2025-03-13       agua  \n",
       "2      2025-03-13       agua  \n",
       "3      2025-03-13       agua  \n",
       "4      2025-03-13       agua  \n",
       "..            ...        ...  \n",
       "50     2025-03-13  seguridad  \n",
       "51     2025-03-13  seguridad  \n",
       "52     2025-03-13  seguridad  \n",
       "53     2025-03-13  seguridad  \n",
       "54     2025-03-13  seguridad  \n",
       "\n",
       "[171 rows x 5 columns]"
      ],
      "text/html": [
       "<div>\n",
       "<style scoped>\n",
       "    .dataframe tbody tr th:only-of-type {\n",
       "        vertical-align: middle;\n",
       "    }\n",
       "\n",
       "    .dataframe tbody tr th {\n",
       "        vertical-align: top;\n",
       "    }\n",
       "\n",
       "    .dataframe thead th {\n",
       "        text-align: right;\n",
       "    }\n",
       "</style>\n",
       "<table border=\"1\" class=\"dataframe\">\n",
       "  <thead>\n",
       "    <tr style=\"text-align: right;\">\n",
       "      <th></th>\n",
       "      <th>titulo</th>\n",
       "      <th>url</th>\n",
       "      <th>fecha_nota</th>\n",
       "      <th>fecha_consulta</th>\n",
       "      <th>tema</th>\n",
       "    </tr>\n",
       "  </thead>\n",
       "  <tbody>\n",
       "    <tr>\n",
       "      <th>0</th>\n",
       "      <td>¿Cómo pagar un recibo de agua vencido en la CDMX?</td>\n",
       "      <td>https://news.google.com/read/CBMioAFBVV95cUxOR...</td>\n",
       "      <td>2025-03-13T18:58:16Z</td>\n",
       "      <td>2025-03-13</td>\n",
       "      <td>agua</td>\n",
       "    </tr>\n",
       "    <tr>\n",
       "      <th>1</th>\n",
       "      <td>Sequía en México; ¿Cuáles son los riesgos de a...</td>\n",
       "      <td>https://news.google.com/read/CBMi1AFBVV95cUxPU...</td>\n",
       "      <td>2025-03-13T17:08:35Z</td>\n",
       "      <td>2025-03-13</td>\n",
       "      <td>agua</td>\n",
       "    </tr>\n",
       "    <tr>\n",
       "      <th>2</th>\n",
       "      <td>Conagua invertirá 195 mdp para rehabilitar dre...</td>\n",
       "      <td>https://news.google.com/read/CBMiqAFBVV95cUxNc...</td>\n",
       "      <td>2025-03-13T11:08:40Z</td>\n",
       "      <td>2025-03-13</td>\n",
       "      <td>agua</td>\n",
       "    </tr>\n",
       "    <tr>\n",
       "      <th>3</th>\n",
       "      <td>¿Corte de agua en CDMX?: Estas son las alcaldí...</td>\n",
       "      <td>https://news.google.com/read/CBMitAFBVV95cUxPd...</td>\n",
       "      <td>2025-03-12T21:25:51Z</td>\n",
       "      <td>2025-03-13</td>\n",
       "      <td>agua</td>\n",
       "    </tr>\n",
       "    <tr>\n",
       "      <th>4</th>\n",
       "      <td>Agua para el futuro: el reto de México</td>\n",
       "      <td>https://news.google.com/read/CBMinwFBVV95cUxOa...</td>\n",
       "      <td>2025-03-13T06:13:00Z</td>\n",
       "      <td>2025-03-13</td>\n",
       "      <td>agua</td>\n",
       "    </tr>\n",
       "    <tr>\n",
       "      <th>...</th>\n",
       "      <td>...</td>\n",
       "      <td>...</td>\n",
       "      <td>...</td>\n",
       "      <td>...</td>\n",
       "      <td>...</td>\n",
       "    </tr>\n",
       "    <tr>\n",
       "      <th>50</th>\n",
       "      <td>De cuánto es la MULTA por tapar números o letr...</td>\n",
       "      <td>https://news.google.com/read/CBMinAFBVV95cUxNN...</td>\n",
       "      <td>2025-03-12T23:29:00Z</td>\n",
       "      <td>2025-03-13</td>\n",
       "      <td>seguridad</td>\n",
       "    </tr>\n",
       "    <tr>\n",
       "      <th>51</th>\n",
       "      <td>En Tláhuac, mototaxista sin una pierna andaba ...</td>\n",
       "      <td>https://news.google.com/read/CBMi3gFBVV95cUxPd...</td>\n",
       "      <td>2025-03-12T22:36:00Z</td>\n",
       "      <td>2025-03-13</td>\n",
       "      <td>seguridad</td>\n",
       "    </tr>\n",
       "    <tr>\n",
       "      <th>52</th>\n",
       "      <td>Detención de El Conejo, presunto líder de Los ...</td>\n",
       "      <td>https://news.google.com/read/CBMixgFBVV95cUxQd...</td>\n",
       "      <td>2025-03-12T20:57:00Z</td>\n",
       "      <td>2025-03-13</td>\n",
       "      <td>seguridad</td>\n",
       "    </tr>\n",
       "    <tr>\n",
       "      <th>53</th>\n",
       "      <td>En Tláhuac, mototaxista sin una pierna andaba ...</td>\n",
       "      <td>https://news.google.com/read/CBMi2gFBVV95cUxOd...</td>\n",
       "      <td>2025-03-12T22:53:16Z</td>\n",
       "      <td>2025-03-13</td>\n",
       "      <td>seguridad</td>\n",
       "    </tr>\n",
       "    <tr>\n",
       "      <th>54</th>\n",
       "      <td>Refuerzan la seguridad en el transporte públic...</td>\n",
       "      <td>https://news.google.com/read/CBMizgFBVV95cUxPM...</td>\n",
       "      <td>2025-03-13T17:26:04Z</td>\n",
       "      <td>2025-03-13</td>\n",
       "      <td>seguridad</td>\n",
       "    </tr>\n",
       "  </tbody>\n",
       "</table>\n",
       "<p>171 rows × 5 columns</p>\n",
       "</div>"
      ]
     },
     "execution_count": 34,
     "metadata": {},
     "output_type": "execute_result"
    }
   ],
   "execution_count": 34
  }
 ],
 "metadata": {
  "kernelspec": {
   "name": "python3",
   "language": "python",
   "display_name": "Python 3 (ipykernel)"
  }
 },
 "nbformat": 4,
 "nbformat_minor": 5
}
