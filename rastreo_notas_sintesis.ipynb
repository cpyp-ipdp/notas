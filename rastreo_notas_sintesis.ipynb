{
 "cells": [
  {
   "cell_type": "markdown",
   "id": "99ded448f3969ac3",
   "metadata": {},
   "source": [
    "### Rastreo de noticias en Google News sobre temas de la Ciudad de México que competan o sean de interés del Instituto de Planeación de la Ciudad de México\n",
    "\n",
    "El script extrae las notas de Google News de los temas de agua, movilidad, planeación, salud y seguridad de la Ciudad de México. El script extrae los títulos, url y fecha de las notas."
   ]
  },
  {
   "cell_type": "code",
   "execution_count": 15,
   "id": "2dc0e4eacf2e9110",
   "metadata": {
    "ExecuteTime": {
     "end_time": "2025-03-13T19:52:48.817978Z",
     "start_time": "2025-03-13T19:52:48.807538Z"
    }
   },
   "outputs": [],
   "source": [
    "import requests\n",
    "import pandas as pd\n",
    "from bs4 import BeautifulSoup"
   ]
  },
  {
   "cell_type": "code",
   "execution_count": null,
   "id": "7f137db178e47a17",
   "metadata": {
    "ExecuteTime": {
     "end_time": "2025-03-13T19:52:48.832853Z",
     "start_time": "2025-03-13T19:52:48.829681Z"
    }
   },
   "outputs": [],
   "source": [
    "#Temas de interés\n",
    "temas=[\"ipdp\", \"pgd\", \"pgot\", \"agua\", \"movilidad\", \"planeacion\", \"salud\", \"seguridad\", \"consulta\", \"ambiente\", \"cultura\",  \"asentamientos\"]"
   ]
  },
  {
   "cell_type": "code",
   "execution_count": 32,
   "id": "b6b567594d5f94a2",
   "metadata": {
    "ExecuteTime": {
     "end_time": "2025-03-13T20:11:15.858993Z",
     "start_time": "2025-03-13T20:11:15.851451Z"
    }
   },
   "outputs": [],
   "source": [
    "#Función para extraer notas:\n",
    "def get_notas(tema,periodo):\n",
    "    headers = {'User-Agent':'Mozilla/5.0 (Windows NT 10.0; Win64; x64) AppleWebKit/537.36 (KHTML, like Gecko) Chrome/134.0.0.0 Safari/537.36'\n",
    "    }\n",
    "    url = f'https://news.google.com/search?q={tema}%20ciudad%20de%20mexico%20when%3A{periodo}d&hl=es-419&gl=MX&ceid=MX%3Aes-419'\n",
    "    response = requests.get(url, headers=headers)\n",
    "    sopa=BeautifulSoup(response.text, 'html.parser')\n",
    "    resultados=sopa.find_all('article')\n",
    "    #Extraer títulos y url\n",
    "    titulos=[]\n",
    "    url=[]\n",
    "    fechas=[]\n",
    "    for i in range(len(resultados)):\n",
    "        titulos.append(resultados[i].find('a', class_='JtKRv').text)\n",
    "        url.append(resultados[i].find('a').get('href'))\n",
    "        fecha = resultados[i].find('time')['datetime'] if resultados[i].find('time') else None\n",
    "        fechas.append(fecha)\n",
    "    # Eliminar el primer punto de la url\n",
    "    url = [i[1:] for i in url]\n",
    "\n",
    "    df=pd.DataFrame({'titulo':titulos,'url':url,'fecha_nota':fechas,'fecha_consulta':pd.to_datetime('today').strftime('%Y-%m-%d'),'tema':tema})\n",
    "    df['url'] = 'https://news.google.com' + df['url'].astype(str)\n",
    "\n",
    "    return df"
   ]
  },
  {
   "cell_type": "code",
   "execution_count": 35,
   "id": "679e797038166c1",
   "metadata": {
    "ExecuteTime": {
     "end_time": "2025-03-13T20:11:20.202892Z",
     "start_time": "2025-03-13T20:11:17.084631Z"
    }
   },
   "outputs": [
    {
     "name": "stdout",
     "output_type": "stream",
     "text": [
      "Número total de notas encontradas 468\n"
     ]
    }
   ],
   "source": [
    "#Tabla general de notas\n",
    "consolidado_notas=pd.DataFrame()\n",
    "\n",
    "#Ciclo para extraer las notas de ayer de los temas\n",
    "for tema in temas:\n",
    "    notas=get_notas(tema, 5)\n",
    "    consolidado_notas=pd.concat([consolidado_notas,notas],axis=0)\n",
    "print(\"Número total de notas encontradas\", len(consolidado_notas))"
   ]
  },
  {
   "cell_type": "code",
   "execution_count": 36,
   "id": "17b9928c",
   "metadata": {},
   "outputs": [
    {
     "data": {
      "text/plain": [
       "array(['ipdp', 'agua', 'movilidad', 'planeacion', 'salud', 'seguridad',\n",
       "       'consulta', 'ambiente', 'cultura', 'asentamientos'], dtype=object)"
      ]
     },
     "execution_count": 36,
     "metadata": {},
     "output_type": "execute_result"
    }
   ],
   "source": [
    "consolidado_notas[\"tema\"].unique()"
   ]
  },
  {
   "cell_type": "code",
   "execution_count": 43,
   "id": "4150ca66",
   "metadata": {},
   "outputs": [],
   "source": [
    "consolidado_notas.to_excel(\"notas.xlsx\", index=False)"
   ]
  }
 ],
 "metadata": {
  "kernelspec": {
   "display_name": "base",
   "language": "python",
   "name": "python3"
  },
  "language_info": {
   "codemirror_mode": {
    "name": "ipython",
    "version": 3
   },
   "file_extension": ".py",
   "mimetype": "text/x-python",
   "name": "python",
   "nbconvert_exporter": "python",
   "pygments_lexer": "ipython3",
   "version": "3.12.4"
  }
 },
 "nbformat": 4,
 "nbformat_minor": 5
}
