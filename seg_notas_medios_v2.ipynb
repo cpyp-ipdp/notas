{
 "cells": [
  {
   "cell_type": "markdown",
   "id": "99ded448f3969ac3",
   "metadata": {},
   "source": [
    "### Rastreo de noticias en Google News sobre temas de la Ciudad de México que competan o sean de interés del Instituto de Planeación de la Ciudad de México\n",
    "\n",
    "El script extrae las notas de Google News de los temas de agua, movilidad, planeación, salud y seguridad de la Ciudad de México. El script extrae los títulos, url y fecha de las notas.\n",
    "Además se ordena y extrae en el formato de entrega diaria para el Instituto de Planeación."
   ]
  },
  {
   "cell_type": "code",
   "execution_count": 12,
   "id": "2dc0e4eacf2e9110",
   "metadata": {
    "ExecuteTime": {
     "end_time": "2025-05-09T12:34:09.464885Z",
     "start_time": "2025-05-09T12:34:08.640059Z"
    }
   },
   "outputs": [],
   "source": [
    "import requests\n",
    "import pandas as pd\n",
    "import re\n",
    "from bs4 import BeautifulSoup\n",
    "from docx import Document\n",
    "from docx.shared import RGBColor\n",
    "from docx.oxml import OxmlElement\n",
    "from docx.oxml.ns import qn\n",
    "from docx.shared import Pt\n",
    "import locale\n",
    "import os\n",
    "from rapidfuzz import fuzz\n",
    "import unicodedata"
   ]
  },
  {
   "cell_type": "markdown",
   "id": "7609707c",
   "metadata": {},
   "source": [
    "Extraer notas a partir de los temas relevantes y palabras clave para localizarlos en Ciudad de México"
   ]
  },
  {
   "cell_type": "code",
   "execution_count": 13,
   "id": "7f137db178e47a17",
   "metadata": {
    "ExecuteTime": {
     "end_time": "2025-05-09T12:34:09.475495Z",
     "start_time": "2025-05-09T12:34:09.471993Z"
    }
   },
   "outputs": [],
   "source": [
    "# Temas para la búsqueda\n",
    "temas = [\"clara%20brugada\",\n",
    "    \"planeación\", \"infraestructura\", \"agua\", \"pgd\", \"pgot\", \"metropolitano\"\n",
    "    \"consulta%20pública\", \"consulta%20indígena\", \"vivienda\",\n",
    "    \"ordenamiento%20territorial\", \"movilidad\", \n",
    "    \"salud\", \"gestión%20de%20riesgos\", \"seguridad%20ciudadana\", \n",
    "    \"participación%20ciudadana\", \"medio%20ambiente\", \"cultura\", \n",
    "    \"asentamientos%20irregulares\", \"ipdp\", \"congreso%20de%20la%20ciudad%20de%20méxico\",\n",
    "    \"transporte%20público\", \"espacio%20público\",\n",
    "    \"patricia%20ramírez%20kuri\"  \n",
    "]"
   ]
  },
  {
   "cell_type": "code",
   "execution_count": 14,
   "id": "274a7a56",
   "metadata": {
    "ExecuteTime": {
     "end_time": "2025-05-09T12:34:09.487146Z",
     "start_time": "2025-05-09T12:34:09.479547Z"
    }
   },
   "outputs": [],
   "source": [
    "def limpiar_tema(t):\n",
    "    t = t.replace('%20', ' ')\n",
    "    palabras = t.split()\n",
    "    excepciones = ['de', 'la', 'del', 'y', 'en', 'a']  # palabras que no se capitalizan\n",
    "    palabras_limpias = []\n",
    "\n",
    "    for i, palabra in enumerate(palabras):\n",
    "        if i == 0 or palabra.lower() not in excepciones:\n",
    "            palabras_limpias.append(palabra.capitalize())\n",
    "        else:\n",
    "            palabras_limpias.append(palabra.lower())\n",
    "    \n",
    "    return ' '.join(palabras_limpias)"
   ]
  },
  {
   "cell_type": "code",
   "execution_count": 15,
   "id": "ca5dce60",
   "metadata": {
    "ExecuteTime": {
     "end_time": "2025-05-09T12:34:09.495078Z",
     "start_time": "2025-05-09T12:34:09.491220Z"
    }
   },
   "outputs": [],
   "source": [
    "#Palabras clave para filtrar solo noticias de la Ciudad de México\n",
    "palabras_clave_cdmx = [\n",
    "    \"Ciudad de México\", \"CDMX\", \"Iztapalapa\", \"Coyoacán\", \"Cuauhtémoc\", \"Benito Juárez\", \n",
    "    \"Miguel Hidalgo\", \"Xochimilco\", \"Tlalpan\", \"Gustavo A. Madero\", \"Venustiano Carranza\",\n",
    "    \"Azcapotzalco\", \"Tláhuac\", \"Álvaro Obregón\", \"Milpa Alta\", \"Magdalena Contreras\", \"Brugada\"\n",
    "]"
   ]
  },
  {
   "cell_type": "code",
   "execution_count": null,
   "id": "56d8c8c4",
   "metadata": {
    "ExecuteTime": {
     "end_time": "2025-05-09T12:34:09.505268Z",
     "start_time": "2025-05-09T12:34:09.500174Z"
    }
   },
   "outputs": [],
   "source": [
    "#Lista de medios relevantes\n",
    "medios = [\"CDMX\",\"Imagen Radio 90.5\",\"Aristegui Noticias\",\n",
    "          \"88.9 Noticias\",\"W Radio México\", \"La Octava\",\n",
    "          \"Telediario México\",\"capital21.cdmx.gob.mx\",\n",
    "          \"CDMX Magacín\",\n",
    "    'infobae', 'La Prensa', 'Debate', 'La Crónica de Hoy', 'El Universal',\n",
    "    'Reforma', 'MVS Noticias', 'SinEmbargo MX', 'Cuarto Poder', 'Reporte Indigo',\n",
    "    'Eje Central', 'Gobierno de la Ciudad de México', 'La Silla Rota', 'MSN', 'Animal Político', 'La Razón de México',\n",
    "    'Excélsior', 'Radio Fórmula', 'N+', 'La Izquierda Diario', 'Milenio',\n",
    "    'Secretaría de Seguridad Ciudadana de la CDMX', 'Infobae México', \n",
    "    'TV Azteca', 'Quadratín México', 'ContraRéplica',\n",
    "    'La Jornada', 'Uno TV Noticias', 'Secretaría de Protección Civil CDMX',\n",
    "    'Ovaciones', 'ADN 40', 'El Heraldo de México',\n",
    "    'IECM', 'El Economista', 'RTVE', 'EL PAÍS', 'Radio Fórmula'\n",
    "]\n",
    "\n",
    "#Convertir la lista de medios en una expresión regular\n",
    "medios_regex = '|'.join(map(re.escape, medios))"
   ]
  },
  {
   "cell_type": "code",
   "execution_count": 17,
   "id": "3e35011b",
   "metadata": {
    "ExecuteTime": {
     "end_time": "2025-05-09T12:34:10.046400Z",
     "start_time": "2025-05-09T12:34:10.040016Z"
    }
   },
   "outputs": [],
   "source": [
    "#Función para extraer notas\n",
    "def get_notas(tema, periodo):\n",
    "    headers = {'User-Agent': 'Mozilla/5.0 (Windows NT 10.0; Win64; x64) AppleWebKit/537.36 (KHTML, like Gecko) Chrome/134.0.0.0 Safari/537.36'}\n",
    "    \n",
    "    url = f'https://news.google.com/search?q={tema}%20ciudad%20de%20mexico%20when%3A{periodo}d&hl=es-419&gl=MX&ceid=MX%3Aes-419'\n",
    "    response = requests.get(url, headers=headers)\n",
    "    sopa = BeautifulSoup(response.text, 'html.parser')\n",
    "    resultados = sopa.find_all('article')\n",
    "    \n",
    "    #Listas para almacenar datos\n",
    "    titulos, urls, fechas, medios_lista = [], [], [], []\n",
    "\n",
    "    for resultado in resultados:\n",
    "        #Extraer título\n",
    "        titulo_elem = resultado.find('a', class_='JtKRv')\n",
    "        titulo = titulo_elem.text.strip() if titulo_elem else None\n",
    "\n",
    "        #Extraer URL\n",
    "        url_elem = resultado.find('a')\n",
    "        url = 'https://news.google.com' + url_elem.get('href')[1:] if url_elem and url_elem.get('href') else None\n",
    "\n",
    "        #Extraer fecha\n",
    "        fecha_elem = resultado.find('time')\n",
    "        fecha = fecha_elem['datetime'] if fecha_elem else None\n",
    "\n",
    "        #Extraer medio\n",
    "        medio_elem = resultado.find('div', class_='vr1PYe')\n",
    "        medio = medio_elem.text.strip() if medio_elem else None\n",
    "\n",
    "        #Guardar en listas\n",
    "        titulos.append(titulo)\n",
    "        urls.append(url)\n",
    "        fechas.append(fecha)\n",
    "        medios_lista.append(medio)\n",
    "\n",
    "    #Crear DataFrame\n",
    "    df = pd.DataFrame({\n",
    "        'titulo': titulos,\n",
    "        'url': urls,\n",
    "        'fecha_nota': fechas,\n",
    "        'medio': medios_lista,\n",
    "        'fecha_consulta': pd.to_datetime('today').strftime('%Y-%m-%d'),\n",
    "        'tema': tema\n",
    "    })\n",
    "\n",
    "    return df"
   ]
  },
  {
   "cell_type": "code",
   "execution_count": 18,
   "id": "12c85f56",
   "metadata": {},
   "outputs": [],
   "source": [
    "def filtrar_notas(df, umbral=85, medios_preferidos=None):\n",
    "    if medios_preferidos is None:\n",
    "        medios_preferidos = []\n",
    "\n",
    "    df_filtrado = pd.DataFrame(columns=df.columns)\n",
    "    titulos_grupos = []\n",
    "\n",
    "    for idx, row in df.iterrows():\n",
    "        titulo_actual = row['titulo']\n",
    "        grupo_encontrado = False\n",
    "\n",
    "        # Buscar si el título se parece a alguno ya registrado\n",
    "        for grupo in titulos_grupos:\n",
    "            if any(fuzz.token_set_ratio(titulo_actual, t) >= umbral for t in grupo['titulos']):\n",
    "                grupo['candidatos'].append(row)\n",
    "                grupo['titulos'].append(titulo_actual)\n",
    "                grupo_encontrado = True\n",
    "                break\n",
    "\n",
    "        # Si no se parece a ninguno, se crea un nuevo grupo\n",
    "        if not grupo_encontrado:\n",
    "            titulos_grupos.append({\n",
    "                'titulos': [titulo_actual],\n",
    "                'candidatos': [row]\n",
    "            })\n",
    "\n",
    "    # Para cada grupo, elegir el mejor candidato\n",
    "    for grupo in titulos_grupos:\n",
    "        candidatos = pd.DataFrame(grupo['candidatos'])\n",
    "        preferidos = candidatos[candidatos['medio'].isin(medios_preferidos)]\n",
    "\n",
    "        if not preferidos.empty:\n",
    "            df_filtrado = pd.concat([df_filtrado, preferidos.iloc[[0]]], ignore_index=True)\n",
    "        else:\n",
    "            df_filtrado = pd.concat([df_filtrado, candidatos.iloc[[0]]], ignore_index=True)\n",
    "#Eliminar notas de Hoy No Circula\n",
    "    df_filtrado = df_filtrado[~df_filtrado['titulo'].str.contains(\"Hoy No Circula\", case=False, na=False)]\n",
    "    df_filtrado = df_filtrado[~df_filtrado['titulo'].str.contains(\"marchas hoy\", case=False, na=False)]\n",
    "    df_filtrado = df_filtrado[~df_filtrado['titulo'].str.contains(\"Marchas HOY\", case=False, na=False)]\n",
    "    df_filtrado = df_filtrado[~df_filtrado['titulo'].str.contains(\"marchas y bloqueos\", case=False, na=False)]\n",
    "\n",
    "\n",
    "    return df_filtrado.reset_index(drop=True)"
   ]
  },
  {
   "cell_type": "code",
   "execution_count": 19,
   "id": "8fe0f955",
   "metadata": {
    "ExecuteTime": {
     "end_time": "2025-05-09T12:34:26.559318Z",
     "start_time": "2025-05-09T12:34:10.089912Z"
    }
   },
   "outputs": [],
   "source": [
    "periodo =  1 #Definir el periodo de busqueda por días \n",
    "\n",
    "#Extraer notas de todos los temas en un solo dataframe\n",
    "consolidado_notas = pd.concat([get_notas(tema, periodo) for tema in temas], ignore_index=True)\n",
    "\n",
    "#Filtrar notas de los medios definidos\n",
    "consolidado_filtrado = consolidado_notas[consolidado_notas['medio'].fillna('').str.contains(medios_regex, regex=True)]\n",
    "\n",
    "#Filtrar por palabras clave de CDMX\n",
    "consolidado_final = consolidado_filtrado[consolidado_filtrado['titulo'].fillna('').str.contains('|'.join(palabras_clave_cdmx), regex=True, case=False)]\n"
   ]
  },
  {
   "cell_type": "code",
   "execution_count": 20,
   "id": "80892fcd",
   "metadata": {
    "ExecuteTime": {
     "end_time": "2025-05-09T12:34:26.583705Z",
     "start_time": "2025-05-09T12:34:26.578308Z"
    }
   },
   "outputs": [
    {
     "name": "stdout",
     "output_type": "stream",
     "text": [
      "Total de notas encontradas: 678\n",
      "Notas filtradas por medios: 253\n",
      "Notas finales filtrando por palabras clave: 177\n"
     ]
    }
   ],
   "source": [
    "#Mostrar resultados\n",
    "print(f'Total de notas encontradas: {len(consolidado_notas)}')\n",
    "print(f'Notas filtradas por medios: {len(consolidado_filtrado)}')\n",
    "print(f'Notas finales filtrando por palabras clave: {len(consolidado_final)}')"
   ]
  },
  {
   "cell_type": "code",
   "execution_count": 21,
   "id": "a949e1a3",
   "metadata": {
    "ExecuteTime": {
     "end_time": "2025-05-09T12:34:26.613249Z",
     "start_time": "2025-05-09T12:34:26.599413Z"
    }
   },
   "outputs": [
    {
     "name": "stderr",
     "output_type": "stream",
     "text": [
      "C:\\Users\\claud\\AppData\\Local\\Temp\\ipykernel_28564\\868838740.py:2: SettingWithCopyWarning: \n",
      "A value is trying to be set on a copy of a slice from a DataFrame.\n",
      "Try using .loc[row_indexer,col_indexer] = value instead\n",
      "\n",
      "See the caveats in the documentation: https://pandas.pydata.org/pandas-docs/stable/user_guide/indexing.html#returning-a-view-versus-a-copy\n",
      "  consolidado_final['fecha_nota'] = pd.to_datetime(consolidado_final['fecha_nota'], errors='coerce')\n"
     ]
    }
   ],
   "source": [
    "# Para hacer el ranking por fecha (más reciente primero)\n",
    "consolidado_final['fecha_nota'] = pd.to_datetime(consolidado_final['fecha_nota'], errors='coerce')"
   ]
  },
  {
   "cell_type": "code",
   "execution_count": 22,
   "id": "2acac7fd",
   "metadata": {
    "ExecuteTime": {
     "end_time": "2025-05-09T12:34:26.874220Z",
     "start_time": "2025-05-09T12:34:26.671978Z"
    }
   },
   "outputs": [
    {
     "name": "stderr",
     "output_type": "stream",
     "text": [
      "C:\\Users\\claud\\AppData\\Local\\Temp\\ipykernel_28564\\1528448663.py:2: SettingWithCopyWarning: \n",
      "A value is trying to be set on a copy of a slice from a DataFrame.\n",
      "Try using .loc[row_indexer,col_indexer] = value instead\n",
      "\n",
      "See the caveats in the documentation: https://pandas.pydata.org/pandas-docs/stable/user_guide/indexing.html#returning-a-view-versus-a-copy\n",
      "  consolidado_final['fecha_nota'] = consolidado_final['fecha_nota'].dt.tz_localize(None)\n"
     ]
    }
   ],
   "source": [
    "# Asegurarnos de que la columna de fecha no tenga zona horaria\n",
    "consolidado_final['fecha_nota'] = consolidado_final['fecha_nota'].dt.tz_localize(None)\n",
    "\n",
    "# Ahora podemos guardar en Excel sin problemas\n",
    "consolidado_final.to_excel(\"noticias_cdmx.xlsx\", index=False)"
   ]
  },
  {
   "cell_type": "markdown",
   "id": "8702560c",
   "metadata": {},
   "source": [
    "Almacenar las notas en el formato de entrega"
   ]
  },
  {
   "cell_type": "code",
   "execution_count": 23,
   "id": "9c119498",
   "metadata": {
    "ExecuteTime": {
     "end_time": "2025-05-09T12:34:26.882258Z",
     "start_time": "2025-05-09T12:34:26.877562Z"
    }
   },
   "outputs": [],
   "source": [
    "# Función para agregar hipervínculos con fuente Arial\n",
    "def add_hyperlink(paragraph, text, url):\n",
    "    part = paragraph._parent.part\n",
    "    r_id = part.relate_to(url, \"http://schemas.openxmlformats.org/officeDocument/2006/relationships/hyperlink\", is_external=True)\n",
    "\n",
    "    hyperlink = OxmlElement(\"w:hyperlink\")\n",
    "    hyperlink.set(qn(\"r:id\"), r_id)\n",
    "\n",
    "    run = OxmlElement(\"w:r\")\n",
    "    rPr = OxmlElement(\"w:rPr\")\n",
    "\n",
    "    # Fuente Arial\n",
    "    rFonts = OxmlElement(\"w:rFonts\")\n",
    "    rFonts.set(qn(\"w:ascii\"), \"Arial\")\n",
    "    rFonts.set(qn(\"w:hAnsi\"), \"Arial\")\n",
    "    rFonts.set(qn(\"w:eastAsia\"), \"Arial\")\n",
    "    rPr.append(rFonts)\n",
    "\n",
    "    # Color azul\n",
    "    color = OxmlElement(\"w:color\")\n",
    "    color.set(qn(\"w:val\"), \"0000FF\")\n",
    "    rPr.append(color)\n",
    "\n",
    "    # Subrayado\n",
    "    underline = OxmlElement(\"w:u\")\n",
    "    underline.set(qn(\"w:val\"), \"single\")\n",
    "    rPr.append(underline)\n",
    "\n",
    "    run.append(rPr)\n",
    "\n",
    "    text_element = OxmlElement(\"w:t\")\n",
    "    text_element.text = text\n",
    "    run.append(text_element)\n",
    "\n",
    "    hyperlink.append(run)\n",
    "    paragraph._element.append(hyperlink)"
   ]
  },
  {
   "cell_type": "code",
   "execution_count": 24,
   "id": "edc895b5",
   "metadata": {
    "ExecuteTime": {
     "end_time": "2025-05-09T12:34:26.895801Z",
     "start_time": "2025-05-09T12:34:26.891768Z"
    }
   },
   "outputs": [],
   "source": [
    "# Función de respaldo si locale falla\n",
    "def fecha_en_espanol(fecha):\n",
    "    meses = {\n",
    "        'January': 'enero', 'February': 'febrero', 'March': 'marzo', 'April': 'abril',\n",
    "        'May': 'mayo', 'June': 'junio', 'July': 'julio', 'August': 'agosto',\n",
    "        'September': 'septiembre', 'October': 'octubre', 'November': 'noviembre', 'December': 'diciembre'\n",
    "    }\n",
    "    fecha_str = fecha.strftime('%d de %B de %Y')\n",
    "    for en, es in meses.items():\n",
    "        fecha_str = fecha_str.replace(en, es)\n",
    "    return fecha_str"
   ]
  },
  {
   "cell_type": "code",
   "execution_count": 25,
   "id": "ad5469e0",
   "metadata": {},
   "outputs": [],
   "source": [
    "def normalizar_texto(texto):\n",
    "    if not isinstance(texto, str):\n",
    "        return \"\"\n",
    "    texto = texto.lower()\n",
    "    texto = unicodedata.normalize('NFD', texto).encode('ascii', 'ignore').decode('utf-8')  # quitar acentos\n",
    "    texto = re.sub(r'\\s+', ' ', texto).strip()  # eliminar espacios múltiples\n",
    "    return texto\n",
    "\n",
    "def filtrar_notas(df, umbral=85, medios_preferidos=None):\n",
    "    if medios_preferidos is None:\n",
    "        medios_preferidos = []\n",
    "\n",
    "    df = df.copy()\n",
    "    df['titulo_normalizado'] = df['titulo'].apply(normalizar_texto)\n",
    "\n",
    "    df_filtrado = pd.DataFrame(columns=df.columns)\n",
    "    titulos_grupos = []\n",
    "\n",
    "    for idx, row in df.iterrows():\n",
    "        titulo_actual = row['titulo_normalizado']\n",
    "        grupo_encontrado = False\n",
    "\n",
    "        # Buscar si el título se parece a alguno ya registrado\n",
    "        for grupo in titulos_grupos:\n",
    "            if any(\n",
    "                max(\n",
    "                    fuzz.token_sort_ratio(titulo_actual, t),\n",
    "                    fuzz.partial_ratio(titulo_actual, t)\n",
    "                ) >= umbral\n",
    "                for t in grupo['titulos']\n",
    "            ):\n",
    "                grupo['candidatos'].append(row)\n",
    "                grupo['titulos'].append(titulo_actual)\n",
    "                grupo_encontrado = True\n",
    "                break\n",
    "\n",
    "        # Si no se parece a ninguno, se crea un nuevo grupo\n",
    "        if not grupo_encontrado:\n",
    "            titulos_grupos.append({\n",
    "                'titulos': [titulo_actual],\n",
    "                'candidatos': [row]\n",
    "            })\n",
    "\n",
    "    # Para cada grupo, elegir el mejor candidato\n",
    "    for grupo in titulos_grupos:\n",
    "        candidatos = pd.DataFrame(grupo['candidatos'])\n",
    "        preferidos = candidatos[candidatos['medio'].isin(medios_preferidos)]\n",
    "\n",
    "        if not preferidos.empty:\n",
    "            df_filtrado = pd.concat([df_filtrado, preferidos.iloc[[0]]], ignore_index=True)\n",
    "        else:\n",
    "            df_filtrado = pd.concat([df_filtrado, candidatos.iloc[[0]]], ignore_index=True)\n",
    "\n",
    "    # Eliminar columna auxiliar\n",
    "    df_filtrado.drop(columns='titulo_normalizado', errors='ignore', inplace=True)\n",
    "    df_filtrado = df_filtrado[~df_filtrado['titulo'].str.contains(\"Hoy No Circula\", case=False, na=False)]\n",
    "    df_filtrado = df_filtrado[~df_filtrado['titulo'].str.contains(\"marchas hoy\", case=False, na=False)]\n",
    "    df_filtrado = df_filtrado[~df_filtrado['titulo'].str.contains(\"Marchas HOY\", case=False, na=False)]\n",
    "    df_filtrado = df_filtrado[~df_filtrado['titulo'].str.contains(\"Marchas y movilizaciones\", case=False, na=False)]\n",
    "\n",
    "    return df_filtrado.reset_index(drop=True)"
   ]
  },
  {
   "cell_type": "code",
   "execution_count": 54,
   "id": "9cf185d4",
   "metadata": {
    "ExecuteTime": {
     "end_time": "2025-05-09T12:34:26.933493Z",
     "start_time": "2025-05-09T12:34:26.904426Z"
    }
   },
   "outputs": [
    {
     "name": "stdout",
     "output_type": "stream",
     "text": [
      "Total de notas después de agrupar y filtrar: 118\n"
     ]
    }
   ],
   "source": [
    "#Cargar la tabla de excel\n",
    "df = pd.read_excel(\"noticias_cdmx.xlsx\")\n",
    "df['medio'] = df['medio'].fillna('Fuente desconocida')\n",
    "df['url'] = df['url'].fillna('#')\n",
    "df['fecha_nota'] = pd.to_datetime(df['fecha_nota'], errors='coerce').dt.strftime('%Y-%m-%d')\n",
    "\n",
    "def limpiar_tema(t):\n",
    "    return str(t).strip().capitalize()\n",
    "\n",
    "df['tema'] = df['tema'].apply(limpiar_tema)\n",
    "df['tema'] = df['tema'].str.replace('%20', ' ', regex=False)\n",
    "\n",
    "# Agrupar y deduplicar temas\n",
    "df['tema_normalizado'] = df['tema'].str.lower().str.normalize('NFKD').str.encode('ascii', errors='ignore').str.decode('utf-8')\n",
    "df_grouped = df.groupby(['fecha_nota', 'medio', 'titulo', 'url']).agg({\n",
    "    'tema_normalizado': lambda x: ', '.join(sorted(set(t.capitalize() for t in x)))\n",
    "}).reset_index().rename(columns={'tema_normalizado': 'tema'})\n",
    "\n",
    "# Filtrar por similitud de títulos\n",
    "medios_preferidos = [\"CDMX\",\"El Universal\", \"La Jornada\", \"Milenio\", \"Reforma\", \"Excélsior\"]\n",
    "df_grouped = filtrar_notas(df_grouped, umbral=75, medios_preferidos=medios_preferidos)\n",
    "\n",
    "# Ordenar según prioridad de medios y alfabéticamente\n",
    "df_grouped['orden_medio'] = df_grouped['medio'].apply(\n",
    "    lambda x: medios_preferidos.index(x) if x in medios_preferidos else len(medios_preferidos)\n",
    ")\n",
    "df_grouped = df_grouped.sort_values(by=['orden_medio', 'medio', 'titulo']).drop(columns='orden_medio')\n",
    "#Si el medio se llama \"CDMX\" cambiar por \"Gobierno de la Ciudad de México\"\n",
    "df_grouped['medio'] = df_grouped['medio'].replace(\"CDMX\", \"Gobierno de la Ciudad de México\")\n",
    "#Cambiar \"clara brugada\" por \"Jefa de Gobierno\" y \"gestion de riesgos\" por \"Gestión de Riesgos\"\n",
    "df_grouped['tema'] = df_grouped['tema'].replace({\n",
    "    \"Clara brugada\": \"Jefa de Gobierno\",\n",
    "    \"Gestion de riesgos\": \"Gestión de Riesgos\",\n",
    "    \"Espacio publico\": \"Espacio Público\",\n",
    "    \"Participacion ciudadana\": \"Participación Ciudadana\",\n",
    "    \"Planeacion\": \"Planeación\",\n",
    "    \"Congreso de la ciudad de mexico\": \"Congreso de la Ciudad de México\",\n",
    "    \"Transporte publico\": \"Transporte Público\",\n",
    "}, regex=True)\n",
    "\n",
    "print(f'Total de notas después de agrupar y filtrar: {len(df_grouped)}')"
   ]
  },
  {
   "cell_type": "code",
   "execution_count": 55,
   "id": "3bc879f9",
   "metadata": {},
   "outputs": [
    {
     "data": {
      "text/html": [
       "<div>\n",
       "<style scoped>\n",
       "    .dataframe tbody tr th:only-of-type {\n",
       "        vertical-align: middle;\n",
       "    }\n",
       "\n",
       "    .dataframe tbody tr th {\n",
       "        vertical-align: top;\n",
       "    }\n",
       "\n",
       "    .dataframe thead th {\n",
       "        text-align: right;\n",
       "    }\n",
       "</style>\n",
       "<table border=\"1\" class=\"dataframe\">\n",
       "  <thead>\n",
       "    <tr style=\"text-align: right;\">\n",
       "      <th></th>\n",
       "      <th>fecha_nota</th>\n",
       "      <th>medio</th>\n",
       "      <th>titulo</th>\n",
       "      <th>url</th>\n",
       "      <th>tema</th>\n",
       "    </tr>\n",
       "  </thead>\n",
       "  <tbody>\n",
       "    <tr>\n",
       "      <th>31</th>\n",
       "      <td>2025-06-26</td>\n",
       "      <td>Gobierno de la Ciudad de México</td>\n",
       "      <td>Clara Brugada arranca Placatón contra la discr...</td>\n",
       "      <td>https://news.google.com/read/CBMi4gFBVV95cUxOR...</td>\n",
       "      <td>Jefa de Gobierno, Espacio Público, Salud</td>\n",
       "    </tr>\n",
       "    <tr>\n",
       "      <th>0</th>\n",
       "      <td>2025-06-25</td>\n",
       "      <td>Gobierno de la Ciudad de México</td>\n",
       "      <td>Firma DIF Ciudad de México Convenio de Colabor...</td>\n",
       "      <td>https://news.google.com/read/CBMi4gFBVV95cUxPS...</td>\n",
       "      <td>Salud</td>\n",
       "    </tr>\n",
       "    <tr>\n",
       "      <th>1</th>\n",
       "      <td>2025-06-25</td>\n",
       "      <td>Gobierno de la Ciudad de México</td>\n",
       "      <td>Se activa la alerta amarilla por lluvias fuert...</td>\n",
       "      <td>https://news.google.com/read/CBMi4wFBVV95cUxPW...</td>\n",
       "      <td>Gestión de Riesgos</td>\n",
       "    </tr>\n",
       "    <tr>\n",
       "      <th>44</th>\n",
       "      <td>2025-06-26</td>\n",
       "      <td>El Universal</td>\n",
       "      <td>Activan triple alerta por lluvias en toda la C...</td>\n",
       "      <td>https://news.google.com/read/CBMiyAFBVV95cUxOO...</td>\n",
       "      <td>Espacio Público</td>\n",
       "    </tr>\n",
       "    <tr>\n",
       "      <th>10</th>\n",
       "      <td>2025-06-25</td>\n",
       "      <td>El Universal</td>\n",
       "      <td>Congreso de CDMX pide a alcaldías limpiar dren...</td>\n",
       "      <td>https://news.google.com/read/CBMiigJBVV95cUxPc...</td>\n",
       "      <td>Congreso de la Ciudad de México, Salud</td>\n",
       "    </tr>\n",
       "    <tr>\n",
       "      <th>...</th>\n",
       "      <td>...</td>\n",
       "      <td>...</td>\n",
       "      <td>...</td>\n",
       "      <td>...</td>\n",
       "      <td>...</td>\n",
       "    </tr>\n",
       "    <tr>\n",
       "      <th>114</th>\n",
       "      <td>2025-06-26</td>\n",
       "      <td>TV Azteca Puebla</td>\n",
       "      <td>IMÁGENES FUERTES: Policías se autolesionan por...</td>\n",
       "      <td>https://news.google.com/read/CBMipwFBVV95cUxQT...</td>\n",
       "      <td>Seguridad ciudadana</td>\n",
       "    </tr>\n",
       "    <tr>\n",
       "      <th>115</th>\n",
       "      <td>2025-06-26</td>\n",
       "      <td>Telediario México</td>\n",
       "      <td>Calidad del aire CdMx: ¿hay contingencia ambie...</td>\n",
       "      <td>https://news.google.com/read/CBMihAFBVV95cUxNR...</td>\n",
       "      <td>Medio ambiente, Participación Ciudadana, Salud...</td>\n",
       "    </tr>\n",
       "    <tr>\n",
       "      <th>116</th>\n",
       "      <td>2025-06-26</td>\n",
       "      <td>Telediario México</td>\n",
       "      <td>Lluvias en CdMx y Edomex HOY 25 de junio: afec...</td>\n",
       "      <td>https://news.google.com/read/CBMinwFBVV95cUxPc...</td>\n",
       "      <td>Agua, Gestión de Riesgos</td>\n",
       "    </tr>\n",
       "    <tr>\n",
       "      <th>117</th>\n",
       "      <td>2025-06-26</td>\n",
       "      <td>Telediario México</td>\n",
       "      <td>¿Lloverá HOY 26 de junio en CdMx y Edomex? | P...</td>\n",
       "      <td>https://news.google.com/read/CBMilAFBVV95cUxQU...</td>\n",
       "      <td>Medio ambiente</td>\n",
       "    </tr>\n",
       "    <tr>\n",
       "      <th>28</th>\n",
       "      <td>2025-06-25</td>\n",
       "      <td>W Radio México</td>\n",
       "      <td>Marcha del Orgullo en CDMX 2025: Actividades, ...</td>\n",
       "      <td>https://news.google.com/read/CBMi3wFBVV95cUxQc...</td>\n",
       "      <td>Cultura</td>\n",
       "    </tr>\n",
       "  </tbody>\n",
       "</table>\n",
       "<p>118 rows × 5 columns</p>\n",
       "</div>"
      ],
      "text/plain": [
       "     fecha_nota                            medio  \\\n",
       "31   2025-06-26  Gobierno de la Ciudad de México   \n",
       "0    2025-06-25  Gobierno de la Ciudad de México   \n",
       "1    2025-06-25  Gobierno de la Ciudad de México   \n",
       "44   2025-06-26                     El Universal   \n",
       "10   2025-06-25                     El Universal   \n",
       "..          ...                              ...   \n",
       "114  2025-06-26                 TV Azteca Puebla   \n",
       "115  2025-06-26                Telediario México   \n",
       "116  2025-06-26                Telediario México   \n",
       "117  2025-06-26                Telediario México   \n",
       "28   2025-06-25                   W Radio México   \n",
       "\n",
       "                                                titulo  \\\n",
       "31   Clara Brugada arranca Placatón contra la discr...   \n",
       "0    Firma DIF Ciudad de México Convenio de Colabor...   \n",
       "1    Se activa la alerta amarilla por lluvias fuert...   \n",
       "44   Activan triple alerta por lluvias en toda la C...   \n",
       "10   Congreso de CDMX pide a alcaldías limpiar dren...   \n",
       "..                                                 ...   \n",
       "114  IMÁGENES FUERTES: Policías se autolesionan por...   \n",
       "115  Calidad del aire CdMx: ¿hay contingencia ambie...   \n",
       "116  Lluvias en CdMx y Edomex HOY 25 de junio: afec...   \n",
       "117  ¿Lloverá HOY 26 de junio en CdMx y Edomex? | P...   \n",
       "28   Marcha del Orgullo en CDMX 2025: Actividades, ...   \n",
       "\n",
       "                                                   url  \\\n",
       "31   https://news.google.com/read/CBMi4gFBVV95cUxOR...   \n",
       "0    https://news.google.com/read/CBMi4gFBVV95cUxPS...   \n",
       "1    https://news.google.com/read/CBMi4wFBVV95cUxPW...   \n",
       "44   https://news.google.com/read/CBMiyAFBVV95cUxOO...   \n",
       "10   https://news.google.com/read/CBMiigJBVV95cUxPc...   \n",
       "..                                                 ...   \n",
       "114  https://news.google.com/read/CBMipwFBVV95cUxQT...   \n",
       "115  https://news.google.com/read/CBMihAFBVV95cUxNR...   \n",
       "116  https://news.google.com/read/CBMinwFBVV95cUxPc...   \n",
       "117  https://news.google.com/read/CBMilAFBVV95cUxQU...   \n",
       "28   https://news.google.com/read/CBMi3wFBVV95cUxQc...   \n",
       "\n",
       "                                                  tema  \n",
       "31            Jefa de Gobierno, Espacio Público, Salud  \n",
       "0                                                Salud  \n",
       "1                                   Gestión de Riesgos  \n",
       "44                                     Espacio Público  \n",
       "10              Congreso de la Ciudad de México, Salud  \n",
       "..                                                 ...  \n",
       "114                                Seguridad ciudadana  \n",
       "115  Medio ambiente, Participación Ciudadana, Salud...  \n",
       "116                           Agua, Gestión de Riesgos  \n",
       "117                                     Medio ambiente  \n",
       "28                                             Cultura  \n",
       "\n",
       "[118 rows x 5 columns]"
      ]
     },
     "execution_count": 55,
     "metadata": {},
     "output_type": "execute_result"
    }
   ],
   "source": [
    "df_grouped"
   ]
  },
  {
   "cell_type": "code",
   "execution_count": 56,
   "id": "cf5492ee",
   "metadata": {
    "ExecuteTime": {
     "end_time": "2025-05-09T12:34:26.955162Z",
     "start_time": "2025-05-09T12:34:26.942310Z"
    }
   },
   "outputs": [],
   "source": [
    "#Crear un documento de Word\n",
    "doc = Document()"
   ]
  },
  {
   "cell_type": "code",
   "execution_count": 57,
   "id": "22b4bbdb",
   "metadata": {
    "ExecuteTime": {
     "end_time": "2025-05-09T12:34:26.978847Z",
     "start_time": "2025-05-09T12:34:26.965026Z"
    }
   },
   "outputs": [],
   "source": [
    "#Homologar la fuente a Arial\n",
    "style = doc.styles['Normal']\n",
    "font = style.font\n",
    "font.name = 'Arial'\n",
    "font.size = Pt(10)\n",
    "\n",
    "style.element.rPr.rFonts.set(qn('w:eastAsia'), 'Arial')\n",
    "\n",
    "#Ponerlo en español utf-8\n",
    "try:\n",
    "    locale.setlocale(locale.LC_TIME, 'es_ES.UTF-8')\n",
    "except:\n",
    "    try:\n",
    "        locale.setlocale(locale.LC_TIME, 'Spanish_Spain.1252')\n",
    "    except:\n",
    "        print('No se pudo establecer la localización en español. Usando traducción manual')\n",
    "\n",
    "fecha_actual = pd.to_datetime('today')\n",
    "try:\n",
    "    fecha_formateada = fecha_actual.strftime('%d de %B de %Y')\n",
    "except:\n",
    "    fecha_formateada = fecha_en_espanol(fecha_actual)"
   ]
  },
  {
   "cell_type": "code",
   "execution_count": 58,
   "id": "d377e0b1",
   "metadata": {
    "ExecuteTime": {
     "end_time": "2025-05-09T12:34:27.033370Z",
     "start_time": "2025-05-09T12:34:26.988649Z"
    }
   },
   "outputs": [],
   "source": [
    "#Formato de entrega\n",
    " \n",
    "# Título\n",
    "titulo = doc.add_heading(\"Monitoreo de Medios y Redes Sociales\", level=1)\n",
    "titulo.alignment = 1  \n",
    "\n",
    "for run in titulo.runs:\n",
    "    run.font.name = 'Arial'\n",
    "    run.font.size = Pt(14)\n",
    "\n",
    "# Subtítulo\n",
    "subtitulo1 = doc.add_paragraph(\"Temas prioritarios de planeación de la Ciudad de México\")\n",
    "subtitulo1.alignment = 1  \n",
    "\n",
    "for run in subtitulo1.runs:\n",
    "    run.font.name = 'Arial'\n",
    "    run.font.size = Pt(12)  \n",
    "\n",
    "subtitulo2 = doc.add_paragraph(f\"Informe con corte al día {fecha_formateada}\")\n",
    "subtitulo2.alignment = 1 \n",
    "\n",
    "for run in subtitulo2.runs:\n",
    "    run.font.name = 'Arial'\n",
    "    run.font.size = Pt(12)  \n",
    "\n",
    "#Crear tabla\n",
    "table = doc.add_table(rows=1, cols=4)\n",
    "table.style = 'Table Grid'\n",
    "\n",
    "#Variables de la tabla\n",
    "headers = [\"Fecha de la nota\", \"Fuente\", \"Idea central\", \"Temas\"]\n",
    "for i, texto in enumerate(headers):\n",
    "    p = table.rows[0].cells[i].paragraphs[0]\n",
    "    run = p.add_run(texto)\n",
    "    run.font.name = 'Arial'\n",
    "    run.font.size = Pt(9)\n",
    "    run._element.rPr.rFonts.set(qn('w:eastAsia'), 'Arial')\n",
    "\n",
    "for _, row in df_grouped.iterrows():\n",
    "    row_cells = table.add_row().cells\n",
    "\n",
    "    #Fecha\n",
    "    p_fecha = row_cells[0].paragraphs[0]\n",
    "    run_fecha = p_fecha.add_run(row[\"fecha_nota\"] if pd.notna(row[\"fecha_nota\"]) else \"No encontrado\")\n",
    "    run_fecha.font.name = 'Arial'\n",
    "    run_fecha.font.size = Pt(9)\n",
    "    run_fecha._element.rPr.rFonts.set(qn('w:eastAsia'), 'Arial')\n",
    "\n",
    "    #Agregar hipervínculo\n",
    "    p_medio = row_cells[1].paragraphs[0]\n",
    "    add_hyperlink(p_medio, row[\"medio\"], row[\"url\"])\n",
    "\n",
    "    #Título\n",
    "    p_titulo = row_cells[2].paragraphs[0]\n",
    "    run_titulo = p_titulo.add_run(row[\"titulo\"])\n",
    "    run_titulo.font.name = 'Arial'\n",
    "    run_titulo.font.size = Pt(9)\n",
    "    run_titulo._element.rPr.rFonts.set(qn('w:eastAsia'), 'Arial')\n",
    "\n",
    "    #Tema\n",
    "    p_tema = row_cells[3].paragraphs[0]\n",
    "    run_tema = p_tema.add_run(row[\"tema\"])\n",
    "    run_tema.font.name = 'Arial'\n",
    "    run_tema.font.size = Pt(9)\n",
    "    run_tema._element.rPr.rFonts.set(qn('w:eastAsia'), 'Arial')"
   ]
  },
  {
   "cell_type": "code",
   "execution_count": 59,
   "id": "83f4169d",
   "metadata": {
    "ExecuteTime": {
     "end_time": "2025-05-09T12:34:27.057374Z",
     "start_time": "2025-05-09T12:34:27.043774Z"
    }
   },
   "outputs": [],
   "source": [
    "# Guardar\n",
    "doc.save(f\"Monitoreo_Medios_y_Redes_ {fecha_formateada}.docx\")"
   ]
  }
 ],
 "metadata": {
  "kernelspec": {
   "display_name": "base",
   "language": "python",
   "name": "python3"
  },
  "language_info": {
   "codemirror_mode": {
    "name": "ipython",
    "version": 3
   },
   "file_extension": ".py",
   "mimetype": "text/x-python",
   "name": "python",
   "nbconvert_exporter": "python",
   "pygments_lexer": "ipython3",
   "version": "3.13.2"
  }
 },
 "nbformat": 4,
 "nbformat_minor": 5
}
