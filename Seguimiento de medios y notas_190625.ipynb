{
 "cells": [
  {
   "cell_type": "markdown",
   "id": "99ded448f3969ac3",
   "metadata": {},
   "source": [
    "### Rastreo de noticias en Google News sobre temas de la Ciudad de México que competan o sean de interés del Instituto de Planeación de la Ciudad de México\n",
    "\n",
    "El script extrae las notas de Google News de los temas de agua, movilidad, planeación, salud y seguridad de la Ciudad de México. El script extrae los títulos, url y fecha de las notas.\n",
    "Además se ordena y extrae en el formato de entrega diaria para el Instituto de Planeación."
   ]
  },
  {
   "cell_type": "code",
   "execution_count": 48,
   "id": "2dc0e4eacf2e9110",
   "metadata": {
    "ExecuteTime": {
     "end_time": "2025-03-13T19:52:48.817978Z",
     "start_time": "2025-03-13T19:52:48.807538Z"
    }
   },
   "outputs": [],
   "source": [
    "import requests\n",
    "import pandas as pd\n",
    "import re\n",
    "from bs4 import BeautifulSoup\n",
    "from docx import Document\n",
    "from docx.shared import RGBColor\n",
    "from docx.oxml import OxmlElement\n",
    "from docx.oxml.ns import qn\n",
    "from docx.shared import Pt\n",
    "import locale\n",
    "import os\n"
   ]
  },
  {
   "cell_type": "markdown",
   "id": "7609707c",
   "metadata": {},
   "source": [
    "Extraer notas a partir de los temas relevantes y palabras clave para localizarlos en Ciudad de México"
   ]
  },
  {
   "cell_type": "code",
   "execution_count": 49,
   "id": "7f137db178e47a17",
   "metadata": {
    "ExecuteTime": {
     "end_time": "2025-03-13T19:52:48.832853Z",
     "start_time": "2025-03-13T19:52:48.829681Z"
    }
   },
   "outputs": [],
   "source": [
    "# Temas para la búsqueda\n",
    "temas = [\n",
    "    \"planeación\", \"infraestructura\", \"agua\", \"pgd\", \"pgot\", \"metropolitano\",\n",
    "    \"consulta%20pública\", \"consulta%20indígena\", \"vivienda\",\n",
    "    \"ordenamiento%20territorial\", \"movilidad\", \n",
    "    \"salud\", \"gestión%20de%20riesgos\", \"seguridad%20ciudadana\", \n",
    "    \"participación%20ciudadana\", \"medio%20ambiente\", \"cultura\", \n",
    "    \"asentamientos%20irregulares\", \"ipdp\", \"congreso%20de%20la%20ciudad%20de%20méxico\",\n",
    "    \"transporte%20público\", \"espacio%20público\",\n",
    "    \"patricia%20ramírez%20kuri\", \"turismo\", \"educación\", \"economía\", \"empleo\" 'transparencia '  \n",
    "]"
   ]
  },
  {
   "cell_type": "code",
   "execution_count": 50,
   "id": "274a7a56",
   "metadata": {},
   "outputs": [],
   "source": [
    "def limpiar_tema(t):\n",
    "    t = t.replace('%20', ' ')\n",
    "    palabras = t.split()\n",
    "    excepciones = ['de', 'la', 'del', 'y', 'en', 'a']  # palabras que no se capitalizan\n",
    "    palabras_limpias = []\n",
    "\n",
    "    for i, palabra in enumerate(palabras):\n",
    "        if i == 0 or palabra.lower() not in excepciones:\n",
    "            palabras_limpias.append(palabra.capitalize())\n",
    "        else:\n",
    "            palabras_limpias.append(palabra.lower())\n",
    "    \n",
    "    return ' '.join(palabras_limpias)\n"
   ]
  },
  {
   "cell_type": "code",
   "execution_count": 51,
   "id": "ca5dce60",
   "metadata": {},
   "outputs": [],
   "source": [
    "#Palabras clave para filtrar solo noticias de la Ciudad de México\n",
    "palabras_clave_cdmx = [\n",
    "    \"Ciudad de México\", \"CDMX\", \"Iztapalapa\", \"Coyoacán\", \"Cuauhtémoc\", \"Benito Juárez\", \n",
    "    \"Miguel Hidalgo\", \"Xochimilco\", \"Tlalpan\", \"Gustavo A. Madero\", \"Venustiano Carranza\",\n",
    "    \"Azcapotzalco\", \"Tláhuac\", \"Álvaro Obregón\", \"Milpa Alta\", \"Magdalena Contreras\"\n",
    "]"
   ]
  },
  {
   "cell_type": "code",
   "execution_count": 52,
   "id": "56d8c8c4",
   "metadata": {},
   "outputs": [],
   "source": [
    "#Lista de medios relevantes\n",
    "medios = [\n",
    "    'El Universal', 'Reforma', 'MVS Noticias', 'SinEmbargo MX', 'Reporte Indigo',\n",
    "    'Gobierno de la Ciudad de México', 'La Silla Rota', 'MSN', \n",
    "    'Gobierno de México', 'Animal Político', 'La Razón de México',\n",
    "    'Excélsior', 'Radio Fórmula', 'N+', 'Milenio',\n",
    "    'SSC-CdMx', 'Infobae México', 'TV Azteca', 'Quadratín México', 'ContraRéplica',\n",
    "    'La Jornada', 'Uno TV Noticias', 'Ovaciones', 'ADN 40', 'El Heraldo de México',\n",
    "    'El Economista', 'El País', 'Radio Fórmula'\n",
    "]\n",
    "\n",
    "#Convertir la lista de medios en una expresión regular\n",
    "medios_regex = '|'.join(map(re.escape, medios))\n"
   ]
  },
  {
   "cell_type": "code",
   "execution_count": 53,
   "id": "3e35011b",
   "metadata": {},
   "outputs": [],
   "source": [
    "#Función para extraer notas\n",
    "def get_notas(tema, periodo):\n",
    "    headers = {'User-Agent': 'Mozilla/5.0 (Windows NT 10.0; Win64; x64) AppleWebKit/537.36 (KHTML, like Gecko) Chrome/134.0.0.0 Safari/537.36'}\n",
    "    \n",
    "    url = f'https://news.google.com/search?q={tema}%20cdmx%20when%3A{periodo}d&hl=es-419&gl=MX&ceid=MX%3Aes-419'\n",
    "    \n",
    "    print(url)\n",
    "\n",
    "    response = requests.get(url, headers=headers)\n",
    "    sopa = BeautifulSoup(response.text, 'html.parser')\n",
    "    resultados = sopa.find_all('article')\n",
    "    \n",
    "    #Listas para almacenar datos\n",
    "    titulos, urls, fechas, medios_lista = [], [], [], []\n",
    "\n",
    "    for resultado in resultados:\n",
    "        #Extraer título\n",
    "        titulo_elem = resultado.find('a', class_='JtKRv')\n",
    "        titulo = titulo_elem.text.strip() if titulo_elem else None\n",
    "\n",
    "        #Extraer URL\n",
    "        url_elem = resultado.find('a')\n",
    "        url = 'https://news.google.com' + url_elem.get('href')[1:] if url_elem and url_elem.get('href') else None\n",
    "\n",
    "        #Extraer fecha\n",
    "        fecha_elem = resultado.find('time')\n",
    "        fecha = fecha_elem['datetime'] if fecha_elem else None\n",
    "\n",
    "        #Extraer medio\n",
    "        medio_elem = resultado.find('div', class_='vr1PYe')\n",
    "        medio = medio_elem.text.strip() if medio_elem else None\n",
    "\n",
    "        #Guardar en listas\n",
    "        titulos.append(titulo)\n",
    "        urls.append(url)\n",
    "        fechas.append(fecha)\n",
    "        medios_lista.append(medio)\n",
    "\n",
    "    #Crear DataFrame\n",
    "    df = pd.DataFrame({\n",
    "        'titulo': titulos,\n",
    "        'url': urls,\n",
    "        'fecha_nota': fechas,\n",
    "        'medio': medios_lista,\n",
    "        'fecha_consulta': pd.to_datetime('today').strftime('%Y-%m-%d'),\n",
    "        'tema': tema\n",
    "    })\n",
    "\n",
    "    return df"
   ]
  },
  {
   "cell_type": "code",
   "execution_count": 54,
   "id": "e4c3a311",
   "metadata": {},
   "outputs": [
    {
     "name": "stdout",
     "output_type": "stream",
     "text": [
      "https://news.google.com/search?q=planeación%20cdmx%20when%3A2d&hl=es-419&gl=MX&ceid=MX%3Aes-419\n",
      "https://news.google.com/search?q=infraestructura%20cdmx%20when%3A2d&hl=es-419&gl=MX&ceid=MX%3Aes-419\n",
      "https://news.google.com/search?q=agua%20cdmx%20when%3A2d&hl=es-419&gl=MX&ceid=MX%3Aes-419\n",
      "https://news.google.com/search?q=pgd%20cdmx%20when%3A2d&hl=es-419&gl=MX&ceid=MX%3Aes-419\n",
      "https://news.google.com/search?q=pgot%20cdmx%20when%3A2d&hl=es-419&gl=MX&ceid=MX%3Aes-419\n",
      "https://news.google.com/search?q=metropolitano%20cdmx%20when%3A2d&hl=es-419&gl=MX&ceid=MX%3Aes-419\n",
      "https://news.google.com/search?q=consulta%20pública%20cdmx%20when%3A2d&hl=es-419&gl=MX&ceid=MX%3Aes-419\n",
      "https://news.google.com/search?q=consulta%20indígena%20cdmx%20when%3A2d&hl=es-419&gl=MX&ceid=MX%3Aes-419\n",
      "https://news.google.com/search?q=vivienda%20cdmx%20when%3A2d&hl=es-419&gl=MX&ceid=MX%3Aes-419\n",
      "https://news.google.com/search?q=ordenamiento%20territorial%20cdmx%20when%3A2d&hl=es-419&gl=MX&ceid=MX%3Aes-419\n",
      "https://news.google.com/search?q=movilidad%20cdmx%20when%3A2d&hl=es-419&gl=MX&ceid=MX%3Aes-419\n",
      "https://news.google.com/search?q=salud%20cdmx%20when%3A2d&hl=es-419&gl=MX&ceid=MX%3Aes-419\n",
      "https://news.google.com/search?q=gestión%20de%20riesgos%20cdmx%20when%3A2d&hl=es-419&gl=MX&ceid=MX%3Aes-419\n",
      "https://news.google.com/search?q=seguridad%20ciudadana%20cdmx%20when%3A2d&hl=es-419&gl=MX&ceid=MX%3Aes-419\n",
      "https://news.google.com/search?q=participación%20ciudadana%20cdmx%20when%3A2d&hl=es-419&gl=MX&ceid=MX%3Aes-419\n",
      "https://news.google.com/search?q=medio%20ambiente%20cdmx%20when%3A2d&hl=es-419&gl=MX&ceid=MX%3Aes-419\n",
      "https://news.google.com/search?q=cultura%20cdmx%20when%3A2d&hl=es-419&gl=MX&ceid=MX%3Aes-419\n",
      "https://news.google.com/search?q=asentamientos%20irregulares%20cdmx%20when%3A2d&hl=es-419&gl=MX&ceid=MX%3Aes-419\n",
      "https://news.google.com/search?q=ipdp%20cdmx%20when%3A2d&hl=es-419&gl=MX&ceid=MX%3Aes-419\n",
      "https://news.google.com/search?q=congreso%20de%20la%20ciudad%20de%20méxico%20cdmx%20when%3A2d&hl=es-419&gl=MX&ceid=MX%3Aes-419\n",
      "https://news.google.com/search?q=transporte%20público%20cdmx%20when%3A2d&hl=es-419&gl=MX&ceid=MX%3Aes-419\n",
      "https://news.google.com/search?q=espacio%20público%20cdmx%20when%3A2d&hl=es-419&gl=MX&ceid=MX%3Aes-419\n",
      "https://news.google.com/search?q=patricia%20ramírez%20kuri%20cdmx%20when%3A2d&hl=es-419&gl=MX&ceid=MX%3Aes-419\n",
      "https://news.google.com/search?q=turismo%20cdmx%20when%3A2d&hl=es-419&gl=MX&ceid=MX%3Aes-419\n",
      "https://news.google.com/search?q=educación%20cdmx%20when%3A2d&hl=es-419&gl=MX&ceid=MX%3Aes-419\n",
      "https://news.google.com/search?q=economía%20cdmx%20when%3A2d&hl=es-419&gl=MX&ceid=MX%3Aes-419\n",
      "https://news.google.com/search?q=empleotransparencia %20cdmx%20when%3A2d&hl=es-419&gl=MX&ceid=MX%3Aes-419\n"
     ]
    }
   ],
   "source": [
    "# Definir el periodo de búsqueda\n",
    "periodo = 2\n",
    "\n",
    "# Extraer notas de todos los temas\n",
    "consolidado_notas = pd.concat([get_notas(tema, periodo) for tema in temas], ignore_index=True)\n",
    "\n",
    "# Filtrar por palabras clave de CDMX\n",
    "consolidado_cdmx = consolidado_notas[consolidado_notas['titulo'].fillna('').str.contains('|'.join(palabras_clave_cdmx), regex=True, case=False)]"
   ]
  },
  {
   "cell_type": "code",
   "execution_count": 55,
   "id": "72bb7931",
   "metadata": {},
   "outputs": [
    {
     "name": "stdout",
     "output_type": "stream",
     "text": [
      "Total de notas encontradas: 884\n",
      "Notas filtradas por palabras clave CDMX: 707\n"
     ]
    }
   ],
   "source": [
    "print(f'Total de notas encontradas: {len(consolidado_notas)}')\n",
    "print(f'Notas filtradas por palabras clave CDMX: {len(consolidado_cdmx)}')\n"
   ]
  },
  {
   "cell_type": "code",
   "execution_count": 56,
   "id": "f9fac2cc",
   "metadata": {},
   "outputs": [
    {
     "name": "stderr",
     "output_type": "stream",
     "text": [
      "/var/folders/wv/qn33ppwj6078glchqvgyx29m0000gn/T/ipykernel_912/908425338.py:2: SettingWithCopyWarning: \n",
      "A value is trying to be set on a copy of a slice from a DataFrame.\n",
      "Try using .loc[row_indexer,col_indexer] = value instead\n",
      "\n",
      "See the caveats in the documentation: https://pandas.pydata.org/pandas-docs/stable/user_guide/indexing.html#returning-a-view-versus-a-copy\n",
      "  consolidado_cdmx['fecha_nota'] = pd.to_datetime(consolidado_cdmx['fecha_nota'], errors='coerce')\n"
     ]
    }
   ],
   "source": [
    "# Formatear fechas\n",
    "consolidado_cdmx['fecha_nota'] = pd.to_datetime(consolidado_cdmx['fecha_nota'], errors='coerce')\n",
    "\n",
    "# Filtrar solo medios relevantes\n",
    "consolidado_relevantes = consolidado_cdmx[consolidado_cdmx['medio'].fillna('').str.contains(medios_regex, regex=True, case=False)]\n"
   ]
  },
  {
   "cell_type": "code",
   "execution_count": 57,
   "id": "bfc4eb9f",
   "metadata": {},
   "outputs": [],
   "source": [
    "# Obtener top 3 por medio prioritario\n",
    "#def obtener_top_3_por_medio(df):\n",
    "   # df = df.sort_values(by=['medio', 'fecha_nota'], ascending=[True, False])\n",
    "   # return df.groupby('medio').head(3)"
   ]
  },
  {
   "cell_type": "code",
   "execution_count": 58,
   "id": "c0f5e09e",
   "metadata": {},
   "outputs": [],
   "source": [
    "#consolidado_top3 = obtener_top_3_por_medio(consolidado_relevantes)\n"
   ]
  },
  {
   "cell_type": "code",
   "execution_count": 59,
   "id": "03d0f017",
   "metadata": {},
   "outputs": [],
   "source": [
    "# Asegurarnos de que la columna de fecha no tenga zona horaria\n",
    "consolidado_top3['fecha_nota'] = consolidado_top3['fecha_nota'].dt.tz_localize(None)\n",
    "\n",
    "# Guardar en Excel\n",
    "consolidado_top3.to_excel(\"noticias_cdmx_prioritarias.xlsx\", index=False)"
   ]
  },
  {
   "cell_type": "code",
   "execution_count": 60,
   "id": "e5815fb3",
   "metadata": {},
   "outputs": [
    {
     "name": "stdout",
     "output_type": "stream",
     "text": [
      "Total de notas después de seleccionar las 3 más relevantes por medio: 61\n",
      "Archivo guardado como 'noticias_cdmx_prioritarias.xlsx'\n"
     ]
    }
   ],
   "source": [
    "\n",
    "print(f'Total de notas después de seleccionar las 3 más relevantes por medio: {len(consolidado_top3)}')\n",
    "print(\"Archivo guardado como 'noticias_cdmx_prioritarias.xlsx'\")"
   ]
  },
  {
   "cell_type": "code",
   "execution_count": null,
   "id": "2ea48cb9",
   "metadata": {},
   "outputs": [],
   "source": []
  },
  {
   "cell_type": "markdown",
   "id": "8702560c",
   "metadata": {},
   "source": [
    "Almacenar las notas en el formato de entrega"
   ]
  },
  {
   "cell_type": "code",
   "execution_count": 61,
   "id": "9c119498",
   "metadata": {},
   "outputs": [],
   "source": [
    "# Función para agregar hipervínculos con fuente Arial\n",
    "def add_hyperlink(paragraph, text, url):\n",
    "    part = paragraph._parent.part\n",
    "    r_id = part.relate_to(url, \"http://schemas.openxmlformats.org/officeDocument/2006/relationships/hyperlink\", is_external=True)\n",
    "\n",
    "    hyperlink = OxmlElement(\"w:hyperlink\")\n",
    "    hyperlink.set(qn(\"r:id\"), r_id)\n",
    "\n",
    "    run = OxmlElement(\"w:r\")\n",
    "    rPr = OxmlElement(\"w:rPr\")\n",
    "\n",
    "    # Fuente Arial\n",
    "    rFonts = OxmlElement(\"w:rFonts\")\n",
    "    rFonts.set(qn(\"w:ascii\"), \"Arial\")\n",
    "    rFonts.set(qn(\"w:hAnsi\"), \"Arial\")\n",
    "    rFonts.set(qn(\"w:eastAsia\"), \"Arial\")\n",
    "    rPr.append(rFonts)\n",
    "\n",
    "    # Color azul\n",
    "    color = OxmlElement(\"w:color\")\n",
    "    color.set(qn(\"w:val\"), \"0000FF\")\n",
    "    rPr.append(color)\n",
    "\n",
    "    # Subrayado\n",
    "    underline = OxmlElement(\"w:u\")\n",
    "    underline.set(qn(\"w:val\"), \"single\")\n",
    "    rPr.append(underline)\n",
    "\n",
    "    run.append(rPr)\n",
    "\n",
    "    text_element = OxmlElement(\"w:t\")\n",
    "    text_element.text = text\n",
    "    run.append(text_element)\n",
    "\n",
    "    hyperlink.append(run)\n",
    "    paragraph._element.append(hyperlink)\n"
   ]
  },
  {
   "cell_type": "code",
   "execution_count": 62,
   "id": "edc895b5",
   "metadata": {},
   "outputs": [],
   "source": [
    "# Función de respaldo si locale falla\n",
    "def fecha_en_espanol(fecha):\n",
    "    meses = {\n",
    "        'January': 'enero', 'February': 'febrero', 'March': 'marzo', 'April': 'abril',\n",
    "        'May': 'mayo', 'June': 'junio', 'July': 'julio', 'August': 'agosto',\n",
    "        'September': 'septiembre', 'October': 'octubre', 'November': 'noviembre', 'December': 'diciembre'\n",
    "    }\n",
    "    fecha_str = fecha.strftime('%d de %B de %Y')\n",
    "    for en, es in meses.items():\n",
    "        fecha_str = fecha_str.replace(en, es)\n",
    "    return fecha_str\n"
   ]
  },
  {
   "cell_type": "code",
   "execution_count": 63,
   "id": "9cf185d4",
   "metadata": {},
   "outputs": [],
   "source": [
    "#Cargar la tabla de excel\n",
    "df = pd.read_excel(\"noticias_cdmx_prioritarias.xlsx\")\n",
    "df['medio'] = df['medio'].fillna('Fuente desconocida')\n",
    "df['url'] = df['url'].fillna('#')\n",
    "df['fecha_nota'] = pd.to_datetime(df['fecha_nota'], errors='coerce').dt.strftime('%Y-%m-%d')\n",
    "\n",
    "def limpiar_tema(t):\n",
    "    return str(t).strip().capitalize()\n",
    "\n",
    "df['tema'] = df['tema'].apply(limpiar_tema)\n",
    "df['tema'] = df['tema'].str.replace('%20', ' ', regex=False)\n",
    "\n",
    "df_grouped = df.groupby(['fecha_nota', 'medio', 'titulo', 'url']).agg({'tema': lambda x: ', '.join(set(x))}).reset_index()"
   ]
  },
  {
   "cell_type": "code",
   "execution_count": 64,
   "id": "cf5492ee",
   "metadata": {},
   "outputs": [],
   "source": [
    "#Crear un documento de Word\n",
    "doc = Document()\n"
   ]
  },
  {
   "cell_type": "code",
   "execution_count": 65,
   "id": "22b4bbdb",
   "metadata": {},
   "outputs": [],
   "source": [
    "#Homologar la fuente a Arial\n",
    "style = doc.styles['Normal']\n",
    "font = style.font\n",
    "font.name = 'Arial'\n",
    "font.size = Pt(10)\n",
    "\n",
    "style.element.rPr.rFonts.set(qn('w:eastAsia'), 'Arial')\n",
    "\n",
    "#Ponerlo en español utf-8\n",
    "try:\n",
    "    locale.setlocale(locale.LC_TIME, 'es_ES.UTF-8')\n",
    "except:\n",
    "    try:\n",
    "        locale.setlocale(locale.LC_TIME, 'Spanish_Spain.1252')\n",
    "    except:\n",
    "        print('No se pudo establecer la localización en español. Usando traducción manual')\n",
    "\n",
    "fecha_actual = pd.to_datetime('today')\n",
    "try:\n",
    "    fecha_formateada = fecha_actual.strftime('%d de %B de %Y')\n",
    "except:\n",
    "    fecha_formateada = fecha_en_espanol(fecha_actual)\n"
   ]
  },
  {
   "cell_type": "code",
   "execution_count": 66,
   "id": "d377e0b1",
   "metadata": {},
   "outputs": [],
   "source": [
    "#Formato de entrega\n",
    " \n",
    "# Título\n",
    "titulo = doc.add_heading(\"Monitoreo de Medios y Redes Sociales\", level=1)\n",
    "titulo.alignment = 1  \n",
    "\n",
    "for run in titulo.runs:\n",
    "    run.font.name = 'Arial'\n",
    "    run.font.size = Pt(14)\n",
    "\n",
    "# Subtítulo\n",
    "subtitulo1 = doc.add_paragraph(\"Temas prioritarios de planeación de la Ciudad de México\")\n",
    "subtitulo1.alignment = 1  \n",
    "\n",
    "for run in subtitulo1.runs:\n",
    "    run.font.name = 'Arial'\n",
    "    run.font.size = Pt(12)  \n",
    "\n",
    "subtitulo2 = doc.add_paragraph(f\"Informe con corte al día {fecha_formateada}\")\n",
    "subtitulo2.alignment = 1 \n",
    "\n",
    "for run in subtitulo2.runs:\n",
    "    run.font.name = 'Arial'\n",
    "    run.font.size = Pt(12)  \n",
    "\n",
    "#Crear tabla\n",
    "table = doc.add_table(rows=1, cols=4)\n",
    "table.style = 'Table Grid'\n",
    "\n",
    "#Variables de la tabla\n",
    "headers = [\"Fecha de la nota\", \"Fuente\", \"Idea central\", \"Temas\"]\n",
    "for i, texto in enumerate(headers):\n",
    "    p = table.rows[0].cells[i].paragraphs[0]\n",
    "    run = p.add_run(texto)\n",
    "    run.font.name = 'Arial'\n",
    "    run.font.size = Pt(10)\n",
    "    run._element.rPr.rFonts.set(qn('w:eastAsia'), 'Arial')\n",
    "\n",
    "for _, row in df_grouped.iterrows():\n",
    "    row_cells = table.add_row().cells\n",
    "\n",
    "    #Fecha\n",
    "    p_fecha = row_cells[0].paragraphs[0]\n",
    "    run_fecha = p_fecha.add_run(row[\"fecha_nota\"] if pd.notna(row[\"fecha_nota\"]) else \"No encontrado\")\n",
    "    run_fecha.font.name = 'Arial'\n",
    "    run_fecha.font.size = Pt(10)\n",
    "    run_fecha._element.rPr.rFonts.set(qn('w:eastAsia'), 'Arial')\n",
    "\n",
    "    #Agregar hipervínculo\n",
    "    p_medio = row_cells[1].paragraphs[0]\n",
    "    add_hyperlink(p_medio, row[\"medio\"], row[\"url\"])\n",
    "\n",
    "    #Título\n",
    "    p_titulo = row_cells[2].paragraphs[0]\n",
    "    run_titulo = p_titulo.add_run(row[\"titulo\"])\n",
    "    run_titulo.font.name = 'Arial'\n",
    "    run_titulo.font.size = Pt(10)\n",
    "    run_titulo._element.rPr.rFonts.set(qn('w:eastAsia'), 'Arial')\n",
    "\n",
    "    #Tema\n",
    "    p_tema = row_cells[3].paragraphs[0]\n",
    "    run_tema = p_tema.add_run(row[\"tema\"])\n",
    "    run_tema.font.name = 'Arial'\n",
    "    run_tema.font.size = Pt(10)\n",
    "    run_tema._element.rPr.rFonts.set(qn('w:eastAsia'), 'Arial')\n"
   ]
  },
  {
   "cell_type": "code",
   "execution_count": 67,
   "id": "83f4169d",
   "metadata": {},
   "outputs": [],
   "source": [
    "# Guardar\n",
    "doc.save(f\"Monitoreo_Medios_Redes_ {fecha_formateada}.docx\")"
   ]
  }
 ],
 "metadata": {
  "kernelspec": {
   "display_name": "Python 3",
   "language": "python",
   "name": "python3"
  },
  "language_info": {
   "codemirror_mode": {
    "name": "ipython",
    "version": 3
   },
   "file_extension": ".py",
   "mimetype": "text/x-python",
   "name": "python",
   "nbconvert_exporter": "python",
   "pygments_lexer": "ipython3",
   "version": "3.12.3"
  }
 },
 "nbformat": 4,
 "nbformat_minor": 5
}
