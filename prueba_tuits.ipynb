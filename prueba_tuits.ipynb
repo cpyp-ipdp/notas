{
 "cells": [
  {
   "cell_type": "code",
   "id": "15322479",
   "metadata": {
    "ExecuteTime": {
     "end_time": "2025-06-19T04:55:01.419927Z",
     "start_time": "2025-06-19T04:55:00.274242Z"
    }
   },
   "source": [
    "import nest_asyncio\n",
    "import asyncio\n",
    "from twikit import Client\n",
    "import pandas as pd\n",
    "import time\n",
    "import random"
   ],
   "outputs": [],
   "execution_count": 1
  },
  {
   "cell_type": "code",
   "id": "9c6ef834",
   "metadata": {
    "ExecuteTime": {
     "end_time": "2025-06-19T04:55:01.471957Z",
     "start_time": "2025-06-19T04:55:01.469430Z"
    }
   },
   "source": [
    "nest_asyncio.apply()"
   ],
   "outputs": [],
   "execution_count": 2
  },
  {
   "cell_type": "code",
   "id": "947a62b8",
   "metadata": {
    "ExecuteTime": {
     "end_time": "2025-06-19T04:55:01.883518Z",
     "start_time": "2025-06-19T04:55:01.865948Z"
    }
   },
   "source": [
    "with open(\"cuentas_x.txt\", \"r\", encoding=\"utf-8\") as f:\n",
    "    cuentas = [line.strip().split(\",\") for line in f]\n",
    "#Número de cuentas\n",
    "print(f\"🔐 Número de cuentas: {len(cuentas)}\")\n",
    "USERNAME, EMAIL, PASSWORD = random.choice(cuentas)\n",
    "print(f\"🔐 Conectando con: {USERNAME}\")"
   ],
   "outputs": [
    {
     "name": "stdout",
     "output_type": "stream",
     "text": [
      "🔐 Número de cuentas: 5\n",
      "🔐 Conectando con: ipdpdatos3\n"
     ]
    }
   ],
   "execution_count": 3
  },
  {
   "cell_type": "code",
   "id": "ac6c920a",
   "metadata": {
    "ExecuteTime": {
     "end_time": "2025-06-19T04:55:01.963514Z",
     "start_time": "2025-06-19T04:55:01.961240Z"
    }
   },
   "source": [
    "USERNAME='IpdpCpyp'\n",
    "PASSWORD='Instituto2025'\n",
    "EMAIL='ipdp.cpyp@gmail.com'"
   ],
   "outputs": [],
   "execution_count": 4
  },
  {
   "cell_type": "code",
   "id": "62e88067",
   "metadata": {
    "ExecuteTime": {
     "end_time": "2025-06-19T04:55:02.047524Z",
     "start_time": "2025-06-19T04:55:02.044908Z"
    }
   },
   "source": [
    "# Lista base de términos\n",
    "temas_base = [\n",
    "    \"planeacion\", \"infraestructura\", \"agua\", \"pgd\", \"pgot\", \"metropolitano\", \n",
    "    \"consulta publica\", \"consulta indigena\", \"vivienda\", \"ordenamiento territorial\", \n",
    "    \"movilidad\", \"salud\", \"gestión de riesgos\", \"seguridad ciudadana\", \n",
    "    \"participacion ciudadana\", \"medio ambiente\", \"cultura\", \n",
    "    \"asentamientos irregulares\", \"ipdp\", \"congreso de la ciudad de mexico\", \n",
    "    \"transporte publico\", \"espacio publico\", \"patricia ramirez kuri\"\n",
    "]\n",
    "\n",
    "busquedas = [f\"{termino} cdmx\" for termino in temas_base]"
   ],
   "outputs": [],
   "execution_count": 5
  },
  {
   "cell_type": "code",
   "id": "dcc02130",
   "metadata": {
    "ExecuteTime": {
     "end_time": "2025-06-19T04:55:02.663739Z",
     "start_time": "2025-06-19T04:55:02.090523Z"
    }
   },
   "source": [
    "# Inicializar cliente\n",
    "client = Client(\"es-ES\")\n",
    "\n",
    "\n",
    "async def login_and_search_multiple(queries, max_retries=3, retry_delay=30):\n",
    "    await client.login(\n",
    "        auth_info_1=USERNAME,\n",
    "        auth_info_2=EMAIL,\n",
    "        password=PASSWORD\n",
    "    )\n",
    "\n",
    "    all_data = []\n",
    "\n",
    "    for query in queries:\n",
    "        print(f\"🔍 Buscando: {query}\")\n",
    "        retries = 0\n",
    "        while retries <= max_retries:\n",
    "            try:\n",
    "                tweets = await client.search_tweet(query, \"Latest\")\n",
    "\n",
    "                for tweet in tweets:\n",
    "                    all_data.append({\n",
    "                        \"busqueda\": query,\n",
    "                        \"usuario\": tweet.user.name,\n",
    "                        \"usuario_id\": tweet.user.id,\n",
    "                        \"texto\": tweet.text,\n",
    "                        \"fecha\": tweet.created_at,\n",
    "                        \"url\": tweet.urls\n",
    "                    })\n",
    "\n",
    "                # Espera aleatoria entre búsquedas\n",
    "                sleep_time = random.uniform(5, 12)\n",
    "                print(f\"⏳ Esperando {sleep_time:.1f} segundos...\")\n",
    "                await asyncio.sleep(sleep_time)\n",
    "                break  # salir del ciclo si la búsqueda fue exitosa\n",
    "\n",
    "            except Exception as e:\n",
    "                print(f\"⚠️ Error al buscar '{query}': {e}\")\n",
    "                if \"Rate limit exceeded\" in str(e).lower():\n",
    "                    retries += 1\n",
    "                    print(f\"🔁 Reintentando en {retry_delay} segundos... (Intento {retries}/{max_retries})\")\n",
    "                    await asyncio.sleep(retry_delay)\n",
    "                else:\n",
    "                    break  # otro tipo de error, salir sin reintentar\n",
    "\n",
    "    df = pd.DataFrame(all_data)\n",
    "    return df\n",
    "\n"
   ],
   "outputs": [],
   "execution_count": 6
  },
  {
   "cell_type": "code",
   "id": "4309bcd1",
   "metadata": {
    "ExecuteTime": {
     "end_time": "2025-06-19T04:58:45.525833Z",
     "start_time": "2025-06-19T04:55:02.688099Z"
    }
   },
   "source": [
    "# Ejecutar\n",
    "df_resultados = await login_and_search_multiple(busquedas, max_retries=5, retry_delay=60)\n",
    "df_resultados['fecha'] = pd.to_datetime(df_resultados['fecha'], format=\"%a %b %d %H:%M:%S %z %Y\", errors='coerce')"
   ],
   "outputs": [
    {
     "name": "stdout",
     "output_type": "stream",
     "text": [
      "🔍 Buscando: planeacion cdmx\n",
      "⏳ Esperando 7.2 segundos...\n",
      "🔍 Buscando: infraestructura cdmx\n",
      "⏳ Esperando 9.2 segundos...\n",
      "🔍 Buscando: agua cdmx\n",
      "⏳ Esperando 11.5 segundos...\n",
      "🔍 Buscando: pgd cdmx\n",
      "⏳ Esperando 5.1 segundos...\n",
      "🔍 Buscando: pgot cdmx\n",
      "⏳ Esperando 6.2 segundos...\n",
      "🔍 Buscando: metropolitano cdmx\n",
      "⏳ Esperando 8.1 segundos...\n",
      "🔍 Buscando: consulta publica cdmx\n",
      "⏳ Esperando 8.2 segundos...\n",
      "🔍 Buscando: consulta indigena cdmx\n",
      "⏳ Esperando 11.3 segundos...\n",
      "🔍 Buscando: vivienda cdmx\n",
      "⏳ Esperando 9.4 segundos...\n",
      "🔍 Buscando: ordenamiento territorial cdmx\n",
      "⏳ Esperando 11.1 segundos...\n",
      "🔍 Buscando: movilidad cdmx\n",
      "⏳ Esperando 8.4 segundos...\n",
      "🔍 Buscando: salud cdmx\n",
      "⏳ Esperando 5.4 segundos...\n",
      "🔍 Buscando: gestión de riesgos cdmx\n",
      "⏳ Esperando 7.7 segundos...\n",
      "🔍 Buscando: seguridad ciudadana cdmx\n",
      "⏳ Esperando 9.0 segundos...\n",
      "🔍 Buscando: participacion ciudadana cdmx\n",
      "⏳ Esperando 5.5 segundos...\n",
      "🔍 Buscando: medio ambiente cdmx\n",
      "⏳ Esperando 7.9 segundos...\n",
      "🔍 Buscando: cultura cdmx\n",
      "⏳ Esperando 8.8 segundos...\n",
      "🔍 Buscando: asentamientos irregulares cdmx\n",
      "⏳ Esperando 10.6 segundos...\n",
      "🔍 Buscando: ipdp cdmx\n",
      "⏳ Esperando 9.1 segundos...\n",
      "🔍 Buscando: congreso de la ciudad de mexico cdmx\n",
      "⏳ Esperando 8.4 segundos...\n",
      "🔍 Buscando: transporte publico cdmx\n",
      "⏳ Esperando 7.5 segundos...\n",
      "🔍 Buscando: espacio publico cdmx\n",
      "⏳ Esperando 11.7 segundos...\n",
      "🔍 Buscando: patricia ramirez kuri cdmx\n",
      "⏳ Esperando 9.2 segundos...\n"
     ]
    }
   ],
   "execution_count": 7
  },
  {
   "cell_type": "code",
   "id": "4ced62e9",
   "metadata": {
    "ExecuteTime": {
     "end_time": "2025-06-19T04:58:45.628829Z",
     "start_time": "2025-06-19T04:58:45.613395Z"
    }
   },
   "source": [
    "df_resultados"
   ],
   "outputs": [
    {
     "data": {
      "text/plain": [
       "                       busqueda                         usuario  \\\n",
       "0               planeacion cdmx                    Felipe Ponce   \n",
       "1               planeacion cdmx                    Olivia Garza   \n",
       "2               planeacion cdmx                     SECTEI CDMX   \n",
       "3               planeacion cdmx                          ANUIES   \n",
       "4               planeacion cdmx                    Olivia Garza   \n",
       "..                          ...                             ...   \n",
       "419  patricia ramirez kuri cdmx  Diputadas y Diputados PAN CDMX   \n",
       "420  patricia ramirez kuri cdmx        Pedro Haces Lago Oficial   \n",
       "421  patricia ramirez kuri cdmx                  @diario24horas   \n",
       "422  patricia ramirez kuri cdmx                El Sol de México   \n",
       "423  patricia ramirez kuri cdmx              Voz de la Sociedad   \n",
       "\n",
       "              usuario_id                                              texto  \\\n",
       "0              334778262  Perdón pero no. \\nSe los escribo desde Pueblo ...   \n",
       "1              169737772  Presenté una iniciativa para impulsar el equil...   \n",
       "2              209755119  El secretario @PabloYanesRizo presidió la Prim...   \n",
       "3               76686789  En el Centro de Innovación y Desarrollo de la ...   \n",
       "4              169737772  Urgen a definir ruta para Planeación en la CDM...   \n",
       "..                   ...                                                ...   \n",
       "419            114601989  El Instituto de Planeación Democrática y Prosp...   \n",
       "420  1539348026728275968  ¡Felicidades, Patricia Ramirez Kuri! \\n\\nCeleb...   \n",
       "421            357050985  🔵 @PAN_CDMX hizo un llamado a Patricia Ramírez...   \n",
       "422            111110077  ✍️ #Opinión de @ReyPeatonMX\\n\\nQuien haya segu...   \n",
       "423           3463101132  #CDMX |@GPPANCDMX exige transparencia, indepen...   \n",
       "\n",
       "                        fecha  \\\n",
       "0   2025-06-19 00:54:45+00:00   \n",
       "1   2025-06-18 20:47:06+00:00   \n",
       "2   2025-06-18 20:09:13+00:00   \n",
       "3   2025-06-18 16:48:48+00:00   \n",
       "4   2025-06-18 14:47:56+00:00   \n",
       "..                        ...   \n",
       "419 2025-04-02 17:28:53+00:00   \n",
       "420 2025-04-02 16:30:33+00:00   \n",
       "421 2025-04-02 16:30:09+00:00   \n",
       "422 2025-04-02 14:02:57+00:00   \n",
       "423 2025-04-02 07:27:04+00:00   \n",
       "\n",
       "                                                   url  \n",
       "0                                                   []  \n",
       "1                                                   []  \n",
       "2                                                   []  \n",
       "3                                                   []  \n",
       "4    [{'display_url': 'reforma.com/qKrS3r', 'expand...  \n",
       "..                                                 ...  \n",
       "419                                                 []  \n",
       "420                                                 []  \n",
       "421  [{'display_url': '24-horas.mx/cdmx/pide-pan-…'...  \n",
       "422  [{'display_url': 'solde.mx/4clmd5C', 'expanded...  \n",
       "423  [{'display_url': 'vozdelasociedad.com', 'expan...  \n",
       "\n",
       "[424 rows x 6 columns]"
      ],
      "text/html": [
       "<div>\n",
       "<style scoped>\n",
       "    .dataframe tbody tr th:only-of-type {\n",
       "        vertical-align: middle;\n",
       "    }\n",
       "\n",
       "    .dataframe tbody tr th {\n",
       "        vertical-align: top;\n",
       "    }\n",
       "\n",
       "    .dataframe thead th {\n",
       "        text-align: right;\n",
       "    }\n",
       "</style>\n",
       "<table border=\"1\" class=\"dataframe\">\n",
       "  <thead>\n",
       "    <tr style=\"text-align: right;\">\n",
       "      <th></th>\n",
       "      <th>busqueda</th>\n",
       "      <th>usuario</th>\n",
       "      <th>usuario_id</th>\n",
       "      <th>texto</th>\n",
       "      <th>fecha</th>\n",
       "      <th>url</th>\n",
       "    </tr>\n",
       "  </thead>\n",
       "  <tbody>\n",
       "    <tr>\n",
       "      <th>0</th>\n",
       "      <td>planeacion cdmx</td>\n",
       "      <td>Felipe Ponce</td>\n",
       "      <td>334778262</td>\n",
       "      <td>Perdón pero no. \\nSe los escribo desde Pueblo ...</td>\n",
       "      <td>2025-06-19 00:54:45+00:00</td>\n",
       "      <td>[]</td>\n",
       "    </tr>\n",
       "    <tr>\n",
       "      <th>1</th>\n",
       "      <td>planeacion cdmx</td>\n",
       "      <td>Olivia Garza</td>\n",
       "      <td>169737772</td>\n",
       "      <td>Presenté una iniciativa para impulsar el equil...</td>\n",
       "      <td>2025-06-18 20:47:06+00:00</td>\n",
       "      <td>[]</td>\n",
       "    </tr>\n",
       "    <tr>\n",
       "      <th>2</th>\n",
       "      <td>planeacion cdmx</td>\n",
       "      <td>SECTEI CDMX</td>\n",
       "      <td>209755119</td>\n",
       "      <td>El secretario @PabloYanesRizo presidió la Prim...</td>\n",
       "      <td>2025-06-18 20:09:13+00:00</td>\n",
       "      <td>[]</td>\n",
       "    </tr>\n",
       "    <tr>\n",
       "      <th>3</th>\n",
       "      <td>planeacion cdmx</td>\n",
       "      <td>ANUIES</td>\n",
       "      <td>76686789</td>\n",
       "      <td>En el Centro de Innovación y Desarrollo de la ...</td>\n",
       "      <td>2025-06-18 16:48:48+00:00</td>\n",
       "      <td>[]</td>\n",
       "    </tr>\n",
       "    <tr>\n",
       "      <th>4</th>\n",
       "      <td>planeacion cdmx</td>\n",
       "      <td>Olivia Garza</td>\n",
       "      <td>169737772</td>\n",
       "      <td>Urgen a definir ruta para Planeación en la CDM...</td>\n",
       "      <td>2025-06-18 14:47:56+00:00</td>\n",
       "      <td>[{'display_url': 'reforma.com/qKrS3r', 'expand...</td>\n",
       "    </tr>\n",
       "    <tr>\n",
       "      <th>...</th>\n",
       "      <td>...</td>\n",
       "      <td>...</td>\n",
       "      <td>...</td>\n",
       "      <td>...</td>\n",
       "      <td>...</td>\n",
       "      <td>...</td>\n",
       "    </tr>\n",
       "    <tr>\n",
       "      <th>419</th>\n",
       "      <td>patricia ramirez kuri cdmx</td>\n",
       "      <td>Diputadas y Diputados PAN CDMX</td>\n",
       "      <td>114601989</td>\n",
       "      <td>El Instituto de Planeación Democrática y Prosp...</td>\n",
       "      <td>2025-04-02 17:28:53+00:00</td>\n",
       "      <td>[]</td>\n",
       "    </tr>\n",
       "    <tr>\n",
       "      <th>420</th>\n",
       "      <td>patricia ramirez kuri cdmx</td>\n",
       "      <td>Pedro Haces Lago Oficial</td>\n",
       "      <td>1539348026728275968</td>\n",
       "      <td>¡Felicidades, Patricia Ramirez Kuri! \\n\\nCeleb...</td>\n",
       "      <td>2025-04-02 16:30:33+00:00</td>\n",
       "      <td>[]</td>\n",
       "    </tr>\n",
       "    <tr>\n",
       "      <th>421</th>\n",
       "      <td>patricia ramirez kuri cdmx</td>\n",
       "      <td>@diario24horas</td>\n",
       "      <td>357050985</td>\n",
       "      <td>🔵 @PAN_CDMX hizo un llamado a Patricia Ramírez...</td>\n",
       "      <td>2025-04-02 16:30:09+00:00</td>\n",
       "      <td>[{'display_url': '24-horas.mx/cdmx/pide-pan-…'...</td>\n",
       "    </tr>\n",
       "    <tr>\n",
       "      <th>422</th>\n",
       "      <td>patricia ramirez kuri cdmx</td>\n",
       "      <td>El Sol de México</td>\n",
       "      <td>111110077</td>\n",
       "      <td>✍️ #Opinión de @ReyPeatonMX\\n\\nQuien haya segu...</td>\n",
       "      <td>2025-04-02 14:02:57+00:00</td>\n",
       "      <td>[{'display_url': 'solde.mx/4clmd5C', 'expanded...</td>\n",
       "    </tr>\n",
       "    <tr>\n",
       "      <th>423</th>\n",
       "      <td>patricia ramirez kuri cdmx</td>\n",
       "      <td>Voz de la Sociedad</td>\n",
       "      <td>3463101132</td>\n",
       "      <td>#CDMX |@GPPANCDMX exige transparencia, indepen...</td>\n",
       "      <td>2025-04-02 07:27:04+00:00</td>\n",
       "      <td>[{'display_url': 'vozdelasociedad.com', 'expan...</td>\n",
       "    </tr>\n",
       "  </tbody>\n",
       "</table>\n",
       "<p>424 rows × 6 columns</p>\n",
       "</div>"
      ]
     },
     "execution_count": 8,
     "metadata": {},
     "output_type": "execute_result"
    }
   ],
   "execution_count": 8
  },
  {
   "cell_type": "code",
   "id": "91dcaf0c",
   "metadata": {
    "ExecuteTime": {
     "end_time": "2025-06-19T04:58:46.615659Z",
     "start_time": "2025-06-19T04:58:45.694329Z"
    }
   },
   "source": [
    "#Hacer gráfica de número de tweets por fecha\n",
    "df_resultados.groupby(df_resultados['fecha'].dt.date).size().plot(kind='bar', title='Número de Tweets por Fecha')"
   ],
   "outputs": [
    {
     "data": {
      "text/plain": [
       "<Axes: title={'center': 'Número de Tweets por Fecha'}, xlabel='fecha'>"
      ]
     },
     "execution_count": 9,
     "metadata": {},
     "output_type": "execute_result"
    },
    {
     "data": {
      "text/plain": [
       "<Figure size 640x480 with 1 Axes>"
      ],
      "image/png": "[encoded data removed]"
     },
     "metadata": {},
     "output_type": "display_data"
    }
   ],
   "execution_count": 9
  },
  {
   "cell_type": "code",
   "id": "dac0b894",
   "metadata": {
    "ExecuteTime": {
     "end_time": "2025-06-19T04:58:46.656117Z",
     "start_time": "2025-06-19T04:58:46.650878Z"
    }
   },
   "source": [
    "#Filtrar de los últimos 2 días\n",
    "tuits_filtrados = df_resultados[\n",
    "    df_resultados['fecha'] >= pd.Timestamp.now(tz='UTC') - pd.Timedelta(days=2)\n",
    "]\n",
    "tuits_filtrados\n",
    "print(f\"🔍 Resultados filtrados: {len(tuits_filtrados)} tuits encontrados.\")"
   ],
   "outputs": [
    {
     "name": "stdout",
     "output_type": "stream",
     "text": [
      "🔍 Resultados filtrados: 255 tuits encontrados.\n"
     ]
    }
   ],
   "execution_count": 10
  },
  {
   "cell_type": "code",
   "id": "8163509a",
   "metadata": {
    "ExecuteTime": {
     "end_time": "2025-06-19T04:58:46.744239Z",
     "start_time": "2025-06-19T04:58:46.735933Z"
    }
   },
   "source": [
    "#Guardar resultados en CSV\n",
    "tuits_filtrados.to_csv(\"resultados_busqueda_tweets.csv\", index=False, encoding='utf-8-sig')"
   ],
   "outputs": [],
   "execution_count": 11
  }
 ],
 "metadata": {
  "kernelspec": {
   "display_name": "base",
   "language": "python",
   "name": "python3"
  },
  "language_info": {
   "codemirror_mode": {
    "name": "ipython",
    "version": 3
   },
   "file_extension": ".py",
   "mimetype": "text/x-python",
   "name": "python",
   "nbconvert_exporter": "python",
   "pygments_lexer": "ipython3",
   "version": "3.13.2"
  }
 },
 "nbformat": 4,
 "nbformat_minor": 5
}
